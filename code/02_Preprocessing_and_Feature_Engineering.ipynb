{
 "cells": [
  {
   "cell_type": "markdown",
   "id": "416fa380-fdc3-43a0-9914-d8c4e913af8e",
   "metadata": {},
   "source": [
    "# Preprocessing and Feature Engineering"
   ]
  },
  {
   "cell_type": "code",
   "execution_count": 1703,
   "id": "0b8af309-b90e-43de-ba82-58134bb2d82a",
   "metadata": {},
   "outputs": [],
   "source": [
    "import numpy as np\n",
    "import pandas as pd\n",
    "import matplotlib.pyplot as plt\n",
    "import seaborn as sns\n",
    "\n",
    "from sklearn.linear_model import LinearRegression, Ridge, RidgeCV, Lasso, LassoCV\n",
    "from sklearn.preprocessing import StandardScaler\n",
    "from sklearn.model_selection import train_test_split\n",
    "from sklearn import metrics"
   ]
  },
  {
   "cell_type": "code",
   "execution_count": 1704,
   "id": "c5e53bd1-d6c2-4c08-b20e-332bcc515db7",
   "metadata": {},
   "outputs": [],
   "source": [
    "train = pd.read_csv('../datasets/train.csv')\n",
    "test = pd.read_csv('../datasets/test.csv')\n",
    "sample_sub = pd.read_csv('../datasets/sample_sub_reg.csv')\n",
    "train01 = pd.read_csv('../datasets/train_cols_cleaned_01.csv')\n",
    "test01 = pd.read_csv('../datasets/test_cols_cleaned_01.csv')"
   ]
  },
  {
   "cell_type": "markdown",
   "id": "0d68b05d-85e9-4f13-9c2a-6ccf34f21564",
   "metadata": {},
   "source": [
    "## Processing for 1st set of predictions"
   ]
  },
  {
   "cell_type": "code",
   "execution_count": 1705,
   "id": "bcd788e8-6fbf-41dd-a950-8570613eed42",
   "metadata": {},
   "outputs": [
    {
     "data": {
      "text/html": [
       "<div>\n",
       "<style scoped>\n",
       "    .dataframe tbody tr th:only-of-type {\n",
       "        vertical-align: middle;\n",
       "    }\n",
       "\n",
       "    .dataframe tbody tr th {\n",
       "        vertical-align: top;\n",
       "    }\n",
       "\n",
       "    .dataframe thead th {\n",
       "        text-align: right;\n",
       "    }\n",
       "</style>\n",
       "<table border=\"1\" class=\"dataframe\">\n",
       "  <thead>\n",
       "    <tr style=\"text-align: right;\">\n",
       "      <th></th>\n",
       "      <th>id</th>\n",
       "      <th>lot_area</th>\n",
       "      <th>house_style</th>\n",
       "      <th>overall_qual</th>\n",
       "      <th>year_built</th>\n",
       "      <th>central_air</th>\n",
       "      <th>full_bath</th>\n",
       "      <th>half_bath</th>\n",
       "      <th>bedroom_abvgr</th>\n",
       "      <th>kitchen_qual</th>\n",
       "      <th>yr_sold</th>\n",
       "      <th>saleprice</th>\n",
       "    </tr>\n",
       "  </thead>\n",
       "  <tbody>\n",
       "    <tr>\n",
       "      <th>0</th>\n",
       "      <td>109</td>\n",
       "      <td>13517</td>\n",
       "      <td>2Story</td>\n",
       "      <td>6</td>\n",
       "      <td>1976</td>\n",
       "      <td>Y</td>\n",
       "      <td>2</td>\n",
       "      <td>1</td>\n",
       "      <td>3</td>\n",
       "      <td>Gd</td>\n",
       "      <td>2010</td>\n",
       "      <td>130500</td>\n",
       "    </tr>\n",
       "    <tr>\n",
       "      <th>1</th>\n",
       "      <td>544</td>\n",
       "      <td>11492</td>\n",
       "      <td>2Story</td>\n",
       "      <td>7</td>\n",
       "      <td>1996</td>\n",
       "      <td>Y</td>\n",
       "      <td>2</td>\n",
       "      <td>1</td>\n",
       "      <td>4</td>\n",
       "      <td>Gd</td>\n",
       "      <td>2009</td>\n",
       "      <td>220000</td>\n",
       "    </tr>\n",
       "    <tr>\n",
       "      <th>2</th>\n",
       "      <td>153</td>\n",
       "      <td>7922</td>\n",
       "      <td>1Story</td>\n",
       "      <td>5</td>\n",
       "      <td>1953</td>\n",
       "      <td>Y</td>\n",
       "      <td>1</td>\n",
       "      <td>0</td>\n",
       "      <td>3</td>\n",
       "      <td>Gd</td>\n",
       "      <td>2010</td>\n",
       "      <td>109000</td>\n",
       "    </tr>\n",
       "    <tr>\n",
       "      <th>3</th>\n",
       "      <td>318</td>\n",
       "      <td>9802</td>\n",
       "      <td>2Story</td>\n",
       "      <td>5</td>\n",
       "      <td>2006</td>\n",
       "      <td>Y</td>\n",
       "      <td>2</td>\n",
       "      <td>1</td>\n",
       "      <td>3</td>\n",
       "      <td>TA</td>\n",
       "      <td>2010</td>\n",
       "      <td>174000</td>\n",
       "    </tr>\n",
       "    <tr>\n",
       "      <th>4</th>\n",
       "      <td>255</td>\n",
       "      <td>14235</td>\n",
       "      <td>1.5Fin</td>\n",
       "      <td>6</td>\n",
       "      <td>1900</td>\n",
       "      <td>Y</td>\n",
       "      <td>2</td>\n",
       "      <td>0</td>\n",
       "      <td>3</td>\n",
       "      <td>TA</td>\n",
       "      <td>2010</td>\n",
       "      <td>138500</td>\n",
       "    </tr>\n",
       "  </tbody>\n",
       "</table>\n",
       "</div>"
      ],
      "text/plain": [
       "    id  lot_area house_style  overall_qual  year_built central_air  full_bath  \\\n",
       "0  109     13517      2Story             6        1976           Y          2   \n",
       "1  544     11492      2Story             7        1996           Y          2   \n",
       "2  153      7922      1Story             5        1953           Y          1   \n",
       "3  318      9802      2Story             5        2006           Y          2   \n",
       "4  255     14235      1.5Fin             6        1900           Y          2   \n",
       "\n",
       "   half_bath  bedroom_abvgr kitchen_qual  yr_sold  saleprice  \n",
       "0          1              3           Gd     2010     130500  \n",
       "1          1              4           Gd     2009     220000  \n",
       "2          0              3           Gd     2010     109000  \n",
       "3          1              3           TA     2010     174000  \n",
       "4          0              3           TA     2010     138500  "
      ]
     },
     "execution_count": 1705,
     "metadata": {},
     "output_type": "execute_result"
    }
   ],
   "source": [
    "train01.head()"
   ]
  },
  {
   "cell_type": "code",
   "execution_count": 1706,
   "id": "e92b31c5-f11a-4553-b873-16017ae5cd42",
   "metadata": {},
   "outputs": [
    {
     "data": {
      "text/html": [
       "<div>\n",
       "<style scoped>\n",
       "    .dataframe tbody tr th:only-of-type {\n",
       "        vertical-align: middle;\n",
       "    }\n",
       "\n",
       "    .dataframe tbody tr th {\n",
       "        vertical-align: top;\n",
       "    }\n",
       "\n",
       "    .dataframe thead th {\n",
       "        text-align: right;\n",
       "    }\n",
       "</style>\n",
       "<table border=\"1\" class=\"dataframe\">\n",
       "  <thead>\n",
       "    <tr style=\"text-align: right;\">\n",
       "      <th></th>\n",
       "      <th>id</th>\n",
       "      <th>lot_area</th>\n",
       "      <th>house_style</th>\n",
       "      <th>overall_qual</th>\n",
       "      <th>year_built</th>\n",
       "      <th>central_air</th>\n",
       "      <th>full_bath</th>\n",
       "      <th>half_bath</th>\n",
       "      <th>bedroom_abvgr</th>\n",
       "      <th>kitchen_qual</th>\n",
       "      <th>yr_sold</th>\n",
       "    </tr>\n",
       "  </thead>\n",
       "  <tbody>\n",
       "    <tr>\n",
       "      <th>0</th>\n",
       "      <td>2658</td>\n",
       "      <td>9142</td>\n",
       "      <td>2Story</td>\n",
       "      <td>6</td>\n",
       "      <td>1910</td>\n",
       "      <td>N</td>\n",
       "      <td>2</td>\n",
       "      <td>0</td>\n",
       "      <td>4</td>\n",
       "      <td>Fa</td>\n",
       "      <td>2006</td>\n",
       "    </tr>\n",
       "    <tr>\n",
       "      <th>1</th>\n",
       "      <td>2718</td>\n",
       "      <td>9662</td>\n",
       "      <td>1Story</td>\n",
       "      <td>5</td>\n",
       "      <td>1977</td>\n",
       "      <td>Y</td>\n",
       "      <td>2</td>\n",
       "      <td>0</td>\n",
       "      <td>6</td>\n",
       "      <td>TA</td>\n",
       "      <td>2006</td>\n",
       "    </tr>\n",
       "    <tr>\n",
       "      <th>2</th>\n",
       "      <td>2414</td>\n",
       "      <td>17104</td>\n",
       "      <td>2Story</td>\n",
       "      <td>7</td>\n",
       "      <td>2006</td>\n",
       "      <td>Y</td>\n",
       "      <td>2</td>\n",
       "      <td>1</td>\n",
       "      <td>3</td>\n",
       "      <td>Gd</td>\n",
       "      <td>2006</td>\n",
       "    </tr>\n",
       "    <tr>\n",
       "      <th>3</th>\n",
       "      <td>1989</td>\n",
       "      <td>8520</td>\n",
       "      <td>1Story</td>\n",
       "      <td>5</td>\n",
       "      <td>1923</td>\n",
       "      <td>Y</td>\n",
       "      <td>1</td>\n",
       "      <td>0</td>\n",
       "      <td>2</td>\n",
       "      <td>TA</td>\n",
       "      <td>2007</td>\n",
       "    </tr>\n",
       "    <tr>\n",
       "      <th>4</th>\n",
       "      <td>625</td>\n",
       "      <td>9500</td>\n",
       "      <td>1Story</td>\n",
       "      <td>6</td>\n",
       "      <td>1963</td>\n",
       "      <td>Y</td>\n",
       "      <td>1</td>\n",
       "      <td>1</td>\n",
       "      <td>3</td>\n",
       "      <td>TA</td>\n",
       "      <td>2009</td>\n",
       "    </tr>\n",
       "  </tbody>\n",
       "</table>\n",
       "</div>"
      ],
      "text/plain": [
       "     id  lot_area house_style  overall_qual  year_built central_air  \\\n",
       "0  2658      9142      2Story             6        1910           N   \n",
       "1  2718      9662      1Story             5        1977           Y   \n",
       "2  2414     17104      2Story             7        2006           Y   \n",
       "3  1989      8520      1Story             5        1923           Y   \n",
       "4   625      9500      1Story             6        1963           Y   \n",
       "\n",
       "   full_bath  half_bath  bedroom_abvgr kitchen_qual  yr_sold  \n",
       "0          2          0              4           Fa     2006  \n",
       "1          2          0              6           TA     2006  \n",
       "2          2          1              3           Gd     2006  \n",
       "3          1          0              2           TA     2007  \n",
       "4          1          1              3           TA     2009  "
      ]
     },
     "execution_count": 1706,
     "metadata": {},
     "output_type": "execute_result"
    }
   ],
   "source": [
    "test01.head()"
   ]
  },
  {
   "cell_type": "markdown",
   "id": "3058b302-afbe-40b7-9220-ea61679fc0f4",
   "metadata": {},
   "source": [
    "I need to get dummies on my object columns."
   ]
  },
  {
   "cell_type": "code",
   "execution_count": 1707,
   "id": "c7b45a7a-68d4-42ff-baa0-af136b7b2024",
   "metadata": {},
   "outputs": [],
   "source": [
    "train01 = pd.get_dummies(train01, columns=['central_air', 'kitchen_qual', 'house_style'], drop_first=True, dtype='int')"
   ]
  },
  {
   "cell_type": "code",
   "execution_count": 1708,
   "id": "c5ad0b48-9847-4d30-af73-12ecd3419b80",
   "metadata": {},
   "outputs": [],
   "source": [
    "test01 = pd.get_dummies(test01, columns=['central_air', 'kitchen_qual', 'house_style'], drop_first=True, dtype='int')"
   ]
  },
  {
   "cell_type": "code",
   "execution_count": 1709,
   "id": "ed60b1a7-3a98-43ee-a2cd-d74a769c916b",
   "metadata": {},
   "outputs": [],
   "source": [
    "train01.set_index('id', inplace=True)\n",
    "test01.set_index('id', inplace=True)"
   ]
  },
  {
   "cell_type": "code",
   "execution_count": 1710,
   "id": "70e07ea6-4191-4539-a6bf-f3e0bbe0ccd9",
   "metadata": {},
   "outputs": [
    {
     "data": {
      "text/html": [
       "<div>\n",
       "<style scoped>\n",
       "    .dataframe tbody tr th:only-of-type {\n",
       "        vertical-align: middle;\n",
       "    }\n",
       "\n",
       "    .dataframe tbody tr th {\n",
       "        vertical-align: top;\n",
       "    }\n",
       "\n",
       "    .dataframe thead th {\n",
       "        text-align: right;\n",
       "    }\n",
       "</style>\n",
       "<table border=\"1\" class=\"dataframe\">\n",
       "  <thead>\n",
       "    <tr style=\"text-align: right;\">\n",
       "      <th></th>\n",
       "      <th>lot_area</th>\n",
       "      <th>overall_qual</th>\n",
       "      <th>year_built</th>\n",
       "      <th>full_bath</th>\n",
       "      <th>half_bath</th>\n",
       "      <th>bedroom_abvgr</th>\n",
       "      <th>yr_sold</th>\n",
       "      <th>saleprice</th>\n",
       "      <th>central_air_Y</th>\n",
       "      <th>kitchen_qual_Fa</th>\n",
       "      <th>kitchen_qual_Gd</th>\n",
       "      <th>kitchen_qual_TA</th>\n",
       "      <th>house_style_1.5Unf</th>\n",
       "      <th>house_style_1Story</th>\n",
       "      <th>house_style_2.5Fin</th>\n",
       "      <th>house_style_2.5Unf</th>\n",
       "      <th>house_style_2Story</th>\n",
       "      <th>house_style_SFoyer</th>\n",
       "      <th>house_style_SLvl</th>\n",
       "    </tr>\n",
       "    <tr>\n",
       "      <th>id</th>\n",
       "      <th></th>\n",
       "      <th></th>\n",
       "      <th></th>\n",
       "      <th></th>\n",
       "      <th></th>\n",
       "      <th></th>\n",
       "      <th></th>\n",
       "      <th></th>\n",
       "      <th></th>\n",
       "      <th></th>\n",
       "      <th></th>\n",
       "      <th></th>\n",
       "      <th></th>\n",
       "      <th></th>\n",
       "      <th></th>\n",
       "      <th></th>\n",
       "      <th></th>\n",
       "      <th></th>\n",
       "      <th></th>\n",
       "    </tr>\n",
       "  </thead>\n",
       "  <tbody>\n",
       "    <tr>\n",
       "      <th>109</th>\n",
       "      <td>13517</td>\n",
       "      <td>6</td>\n",
       "      <td>1976</td>\n",
       "      <td>2</td>\n",
       "      <td>1</td>\n",
       "      <td>3</td>\n",
       "      <td>2010</td>\n",
       "      <td>130500</td>\n",
       "      <td>1</td>\n",
       "      <td>0</td>\n",
       "      <td>1</td>\n",
       "      <td>0</td>\n",
       "      <td>0</td>\n",
       "      <td>0</td>\n",
       "      <td>0</td>\n",
       "      <td>0</td>\n",
       "      <td>1</td>\n",
       "      <td>0</td>\n",
       "      <td>0</td>\n",
       "    </tr>\n",
       "    <tr>\n",
       "      <th>544</th>\n",
       "      <td>11492</td>\n",
       "      <td>7</td>\n",
       "      <td>1996</td>\n",
       "      <td>2</td>\n",
       "      <td>1</td>\n",
       "      <td>4</td>\n",
       "      <td>2009</td>\n",
       "      <td>220000</td>\n",
       "      <td>1</td>\n",
       "      <td>0</td>\n",
       "      <td>1</td>\n",
       "      <td>0</td>\n",
       "      <td>0</td>\n",
       "      <td>0</td>\n",
       "      <td>0</td>\n",
       "      <td>0</td>\n",
       "      <td>1</td>\n",
       "      <td>0</td>\n",
       "      <td>0</td>\n",
       "    </tr>\n",
       "    <tr>\n",
       "      <th>153</th>\n",
       "      <td>7922</td>\n",
       "      <td>5</td>\n",
       "      <td>1953</td>\n",
       "      <td>1</td>\n",
       "      <td>0</td>\n",
       "      <td>3</td>\n",
       "      <td>2010</td>\n",
       "      <td>109000</td>\n",
       "      <td>1</td>\n",
       "      <td>0</td>\n",
       "      <td>1</td>\n",
       "      <td>0</td>\n",
       "      <td>0</td>\n",
       "      <td>1</td>\n",
       "      <td>0</td>\n",
       "      <td>0</td>\n",
       "      <td>0</td>\n",
       "      <td>0</td>\n",
       "      <td>0</td>\n",
       "    </tr>\n",
       "    <tr>\n",
       "      <th>318</th>\n",
       "      <td>9802</td>\n",
       "      <td>5</td>\n",
       "      <td>2006</td>\n",
       "      <td>2</td>\n",
       "      <td>1</td>\n",
       "      <td>3</td>\n",
       "      <td>2010</td>\n",
       "      <td>174000</td>\n",
       "      <td>1</td>\n",
       "      <td>0</td>\n",
       "      <td>0</td>\n",
       "      <td>1</td>\n",
       "      <td>0</td>\n",
       "      <td>0</td>\n",
       "      <td>0</td>\n",
       "      <td>0</td>\n",
       "      <td>1</td>\n",
       "      <td>0</td>\n",
       "      <td>0</td>\n",
       "    </tr>\n",
       "    <tr>\n",
       "      <th>255</th>\n",
       "      <td>14235</td>\n",
       "      <td>6</td>\n",
       "      <td>1900</td>\n",
       "      <td>2</td>\n",
       "      <td>0</td>\n",
       "      <td>3</td>\n",
       "      <td>2010</td>\n",
       "      <td>138500</td>\n",
       "      <td>1</td>\n",
       "      <td>0</td>\n",
       "      <td>0</td>\n",
       "      <td>1</td>\n",
       "      <td>0</td>\n",
       "      <td>0</td>\n",
       "      <td>0</td>\n",
       "      <td>0</td>\n",
       "      <td>0</td>\n",
       "      <td>0</td>\n",
       "      <td>0</td>\n",
       "    </tr>\n",
       "  </tbody>\n",
       "</table>\n",
       "</div>"
      ],
      "text/plain": [
       "     lot_area  overall_qual  year_built  full_bath  half_bath  bedroom_abvgr  \\\n",
       "id                                                                             \n",
       "109     13517             6        1976          2          1              3   \n",
       "544     11492             7        1996          2          1              4   \n",
       "153      7922             5        1953          1          0              3   \n",
       "318      9802             5        2006          2          1              3   \n",
       "255     14235             6        1900          2          0              3   \n",
       "\n",
       "     yr_sold  saleprice  central_air_Y  kitchen_qual_Fa  kitchen_qual_Gd  \\\n",
       "id                                                                         \n",
       "109     2010     130500              1                0                1   \n",
       "544     2009     220000              1                0                1   \n",
       "153     2010     109000              1                0                1   \n",
       "318     2010     174000              1                0                0   \n",
       "255     2010     138500              1                0                0   \n",
       "\n",
       "     kitchen_qual_TA  house_style_1.5Unf  house_style_1Story  \\\n",
       "id                                                             \n",
       "109                0                   0                   0   \n",
       "544                0                   0                   0   \n",
       "153                0                   0                   1   \n",
       "318                1                   0                   0   \n",
       "255                1                   0                   0   \n",
       "\n",
       "     house_style_2.5Fin  house_style_2.5Unf  house_style_2Story  \\\n",
       "id                                                                \n",
       "109                   0                   0                   1   \n",
       "544                   0                   0                   1   \n",
       "153                   0                   0                   0   \n",
       "318                   0                   0                   1   \n",
       "255                   0                   0                   0   \n",
       "\n",
       "     house_style_SFoyer  house_style_SLvl  \n",
       "id                                         \n",
       "109                   0                 0  \n",
       "544                   0                 0  \n",
       "153                   0                 0  \n",
       "318                   0                 0  \n",
       "255                   0                 0  "
      ]
     },
     "execution_count": 1710,
     "metadata": {},
     "output_type": "execute_result"
    }
   ],
   "source": [
    "train01.head()"
   ]
  },
  {
   "cell_type": "code",
   "execution_count": 1711,
   "id": "b473e760-fa91-415f-9d5d-e2e3d3dccf9d",
   "metadata": {},
   "outputs": [
    {
     "data": {
      "text/html": [
       "<div>\n",
       "<style scoped>\n",
       "    .dataframe tbody tr th:only-of-type {\n",
       "        vertical-align: middle;\n",
       "    }\n",
       "\n",
       "    .dataframe tbody tr th {\n",
       "        vertical-align: top;\n",
       "    }\n",
       "\n",
       "    .dataframe thead th {\n",
       "        text-align: right;\n",
       "    }\n",
       "</style>\n",
       "<table border=\"1\" class=\"dataframe\">\n",
       "  <thead>\n",
       "    <tr style=\"text-align: right;\">\n",
       "      <th></th>\n",
       "      <th>lot_area</th>\n",
       "      <th>overall_qual</th>\n",
       "      <th>year_built</th>\n",
       "      <th>full_bath</th>\n",
       "      <th>half_bath</th>\n",
       "      <th>bedroom_abvgr</th>\n",
       "      <th>yr_sold</th>\n",
       "      <th>central_air_Y</th>\n",
       "      <th>kitchen_qual_Fa</th>\n",
       "      <th>kitchen_qual_Gd</th>\n",
       "      <th>kitchen_qual_TA</th>\n",
       "      <th>house_style_1.5Unf</th>\n",
       "      <th>house_style_1Story</th>\n",
       "      <th>house_style_2.5Fin</th>\n",
       "      <th>house_style_2.5Unf</th>\n",
       "      <th>house_style_2Story</th>\n",
       "      <th>house_style_SFoyer</th>\n",
       "      <th>house_style_SLvl</th>\n",
       "    </tr>\n",
       "    <tr>\n",
       "      <th>id</th>\n",
       "      <th></th>\n",
       "      <th></th>\n",
       "      <th></th>\n",
       "      <th></th>\n",
       "      <th></th>\n",
       "      <th></th>\n",
       "      <th></th>\n",
       "      <th></th>\n",
       "      <th></th>\n",
       "      <th></th>\n",
       "      <th></th>\n",
       "      <th></th>\n",
       "      <th></th>\n",
       "      <th></th>\n",
       "      <th></th>\n",
       "      <th></th>\n",
       "      <th></th>\n",
       "      <th></th>\n",
       "    </tr>\n",
       "  </thead>\n",
       "  <tbody>\n",
       "    <tr>\n",
       "      <th>2658</th>\n",
       "      <td>9142</td>\n",
       "      <td>6</td>\n",
       "      <td>1910</td>\n",
       "      <td>2</td>\n",
       "      <td>0</td>\n",
       "      <td>4</td>\n",
       "      <td>2006</td>\n",
       "      <td>0</td>\n",
       "      <td>1</td>\n",
       "      <td>0</td>\n",
       "      <td>0</td>\n",
       "      <td>0</td>\n",
       "      <td>0</td>\n",
       "      <td>0</td>\n",
       "      <td>0</td>\n",
       "      <td>1</td>\n",
       "      <td>0</td>\n",
       "      <td>0</td>\n",
       "    </tr>\n",
       "    <tr>\n",
       "      <th>2718</th>\n",
       "      <td>9662</td>\n",
       "      <td>5</td>\n",
       "      <td>1977</td>\n",
       "      <td>2</td>\n",
       "      <td>0</td>\n",
       "      <td>6</td>\n",
       "      <td>2006</td>\n",
       "      <td>1</td>\n",
       "      <td>0</td>\n",
       "      <td>0</td>\n",
       "      <td>1</td>\n",
       "      <td>0</td>\n",
       "      <td>1</td>\n",
       "      <td>0</td>\n",
       "      <td>0</td>\n",
       "      <td>0</td>\n",
       "      <td>0</td>\n",
       "      <td>0</td>\n",
       "    </tr>\n",
       "    <tr>\n",
       "      <th>2414</th>\n",
       "      <td>17104</td>\n",
       "      <td>7</td>\n",
       "      <td>2006</td>\n",
       "      <td>2</td>\n",
       "      <td>1</td>\n",
       "      <td>3</td>\n",
       "      <td>2006</td>\n",
       "      <td>1</td>\n",
       "      <td>0</td>\n",
       "      <td>1</td>\n",
       "      <td>0</td>\n",
       "      <td>0</td>\n",
       "      <td>0</td>\n",
       "      <td>0</td>\n",
       "      <td>0</td>\n",
       "      <td>1</td>\n",
       "      <td>0</td>\n",
       "      <td>0</td>\n",
       "    </tr>\n",
       "    <tr>\n",
       "      <th>1989</th>\n",
       "      <td>8520</td>\n",
       "      <td>5</td>\n",
       "      <td>1923</td>\n",
       "      <td>1</td>\n",
       "      <td>0</td>\n",
       "      <td>2</td>\n",
       "      <td>2007</td>\n",
       "      <td>1</td>\n",
       "      <td>0</td>\n",
       "      <td>0</td>\n",
       "      <td>1</td>\n",
       "      <td>0</td>\n",
       "      <td>1</td>\n",
       "      <td>0</td>\n",
       "      <td>0</td>\n",
       "      <td>0</td>\n",
       "      <td>0</td>\n",
       "      <td>0</td>\n",
       "    </tr>\n",
       "    <tr>\n",
       "      <th>625</th>\n",
       "      <td>9500</td>\n",
       "      <td>6</td>\n",
       "      <td>1963</td>\n",
       "      <td>1</td>\n",
       "      <td>1</td>\n",
       "      <td>3</td>\n",
       "      <td>2009</td>\n",
       "      <td>1</td>\n",
       "      <td>0</td>\n",
       "      <td>0</td>\n",
       "      <td>1</td>\n",
       "      <td>0</td>\n",
       "      <td>1</td>\n",
       "      <td>0</td>\n",
       "      <td>0</td>\n",
       "      <td>0</td>\n",
       "      <td>0</td>\n",
       "      <td>0</td>\n",
       "    </tr>\n",
       "  </tbody>\n",
       "</table>\n",
       "</div>"
      ],
      "text/plain": [
       "      lot_area  overall_qual  year_built  full_bath  half_bath  bedroom_abvgr  \\\n",
       "id                                                                              \n",
       "2658      9142             6        1910          2          0              4   \n",
       "2718      9662             5        1977          2          0              6   \n",
       "2414     17104             7        2006          2          1              3   \n",
       "1989      8520             5        1923          1          0              2   \n",
       "625       9500             6        1963          1          1              3   \n",
       "\n",
       "      yr_sold  central_air_Y  kitchen_qual_Fa  kitchen_qual_Gd  \\\n",
       "id                                                               \n",
       "2658     2006              0                1                0   \n",
       "2718     2006              1                0                0   \n",
       "2414     2006              1                0                1   \n",
       "1989     2007              1                0                0   \n",
       "625      2009              1                0                0   \n",
       "\n",
       "      kitchen_qual_TA  house_style_1.5Unf  house_style_1Story  \\\n",
       "id                                                              \n",
       "2658                0                   0                   0   \n",
       "2718                1                   0                   1   \n",
       "2414                0                   0                   0   \n",
       "1989                1                   0                   1   \n",
       "625                 1                   0                   1   \n",
       "\n",
       "      house_style_2.5Fin  house_style_2.5Unf  house_style_2Story  \\\n",
       "id                                                                 \n",
       "2658                   0                   0                   1   \n",
       "2718                   0                   0                   0   \n",
       "2414                   0                   0                   1   \n",
       "1989                   0                   0                   0   \n",
       "625                    0                   0                   0   \n",
       "\n",
       "      house_style_SFoyer  house_style_SLvl  \n",
       "id                                          \n",
       "2658                   0                 0  \n",
       "2718                   0                 0  \n",
       "2414                   0                 0  \n",
       "1989                   0                 0  \n",
       "625                    0                 0  "
      ]
     },
     "execution_count": 1711,
     "metadata": {},
     "output_type": "execute_result"
    }
   ],
   "source": [
    "test01.head()"
   ]
  },
  {
   "cell_type": "code",
   "execution_count": 1712,
   "id": "243f054f-5174-44a3-829d-dfa76cd92cff",
   "metadata": {},
   "outputs": [
    {
     "data": {
      "text/plain": [
       "lot_area              int64\n",
       "overall_qual          int64\n",
       "year_built            int64\n",
       "full_bath             int64\n",
       "half_bath             int64\n",
       "bedroom_abvgr         int64\n",
       "yr_sold               int64\n",
       "saleprice             int64\n",
       "central_air_Y         int32\n",
       "kitchen_qual_Fa       int32\n",
       "kitchen_qual_Gd       int32\n",
       "kitchen_qual_TA       int32\n",
       "house_style_1.5Unf    int32\n",
       "house_style_1Story    int32\n",
       "house_style_2.5Fin    int32\n",
       "house_style_2.5Unf    int32\n",
       "house_style_2Story    int32\n",
       "house_style_SFoyer    int32\n",
       "house_style_SLvl      int32\n",
       "dtype: object"
      ]
     },
     "execution_count": 1712,
     "metadata": {},
     "output_type": "execute_result"
    }
   ],
   "source": [
    "train01.dtypes"
   ]
  },
  {
   "cell_type": "code",
   "execution_count": 1713,
   "id": "5b19cc68-6d50-44fa-a104-cd25c5d9861a",
   "metadata": {},
   "outputs": [
    {
     "data": {
      "text/plain": [
       "lot_area              int64\n",
       "overall_qual          int64\n",
       "year_built            int64\n",
       "full_bath             int64\n",
       "half_bath             int64\n",
       "bedroom_abvgr         int64\n",
       "yr_sold               int64\n",
       "central_air_Y         int32\n",
       "kitchen_qual_Fa       int32\n",
       "kitchen_qual_Gd       int32\n",
       "kitchen_qual_TA       int32\n",
       "house_style_1.5Unf    int32\n",
       "house_style_1Story    int32\n",
       "house_style_2.5Fin    int32\n",
       "house_style_2.5Unf    int32\n",
       "house_style_2Story    int32\n",
       "house_style_SFoyer    int32\n",
       "house_style_SLvl      int32\n",
       "dtype: object"
      ]
     },
     "execution_count": 1713,
     "metadata": {},
     "output_type": "execute_result"
    }
   ],
   "source": [
    "test01.dtypes"
   ]
  },
  {
   "cell_type": "code",
   "execution_count": 1714,
   "id": "6590858a-ad00-4bf1-bf40-cb62a910d4e3",
   "metadata": {},
   "outputs": [],
   "source": [
    "X = train01.drop(columns=['saleprice'])\n",
    "y = train01['saleprice']"
   ]
  },
  {
   "cell_type": "code",
   "execution_count": 1715,
   "id": "618c07bd-fe15-4dd7-a4a5-ac148e9b7dc1",
   "metadata": {},
   "outputs": [],
   "source": [
    "X_train, X_test, y_train, y_test = train_test_split(X, y, random_state=42)"
   ]
  },
  {
   "cell_type": "code",
   "execution_count": 1716,
   "id": "d30be172-9cf5-4198-a9ea-ae3b0578be6a",
   "metadata": {},
   "outputs": [
    {
     "data": {
      "text/html": [
       "<style>#sk-container-id-152 {color: black;background-color: white;}#sk-container-id-152 pre{padding: 0;}#sk-container-id-152 div.sk-toggleable {background-color: white;}#sk-container-id-152 label.sk-toggleable__label {cursor: pointer;display: block;width: 100%;margin-bottom: 0;padding: 0.3em;box-sizing: border-box;text-align: center;}#sk-container-id-152 label.sk-toggleable__label-arrow:before {content: \"▸\";float: left;margin-right: 0.25em;color: #696969;}#sk-container-id-152 label.sk-toggleable__label-arrow:hover:before {color: black;}#sk-container-id-152 div.sk-estimator:hover label.sk-toggleable__label-arrow:before {color: black;}#sk-container-id-152 div.sk-toggleable__content {max-height: 0;max-width: 0;overflow: hidden;text-align: left;background-color: #f0f8ff;}#sk-container-id-152 div.sk-toggleable__content pre {margin: 0.2em;color: black;border-radius: 0.25em;background-color: #f0f8ff;}#sk-container-id-152 input.sk-toggleable__control:checked~div.sk-toggleable__content {max-height: 200px;max-width: 100%;overflow: auto;}#sk-container-id-152 input.sk-toggleable__control:checked~label.sk-toggleable__label-arrow:before {content: \"▾\";}#sk-container-id-152 div.sk-estimator input.sk-toggleable__control:checked~label.sk-toggleable__label {background-color: #d4ebff;}#sk-container-id-152 div.sk-label input.sk-toggleable__control:checked~label.sk-toggleable__label {background-color: #d4ebff;}#sk-container-id-152 input.sk-hidden--visually {border: 0;clip: rect(1px 1px 1px 1px);clip: rect(1px, 1px, 1px, 1px);height: 1px;margin: -1px;overflow: hidden;padding: 0;position: absolute;width: 1px;}#sk-container-id-152 div.sk-estimator {font-family: monospace;background-color: #f0f8ff;border: 1px dotted black;border-radius: 0.25em;box-sizing: border-box;margin-bottom: 0.5em;}#sk-container-id-152 div.sk-estimator:hover {background-color: #d4ebff;}#sk-container-id-152 div.sk-parallel-item::after {content: \"\";width: 100%;border-bottom: 1px solid gray;flex-grow: 1;}#sk-container-id-152 div.sk-label:hover label.sk-toggleable__label {background-color: #d4ebff;}#sk-container-id-152 div.sk-serial::before {content: \"\";position: absolute;border-left: 1px solid gray;box-sizing: border-box;top: 0;bottom: 0;left: 50%;z-index: 0;}#sk-container-id-152 div.sk-serial {display: flex;flex-direction: column;align-items: center;background-color: white;padding-right: 0.2em;padding-left: 0.2em;position: relative;}#sk-container-id-152 div.sk-item {position: relative;z-index: 1;}#sk-container-id-152 div.sk-parallel {display: flex;align-items: stretch;justify-content: center;background-color: white;position: relative;}#sk-container-id-152 div.sk-item::before, #sk-container-id-152 div.sk-parallel-item::before {content: \"\";position: absolute;border-left: 1px solid gray;box-sizing: border-box;top: 0;bottom: 0;left: 50%;z-index: -1;}#sk-container-id-152 div.sk-parallel-item {display: flex;flex-direction: column;z-index: 1;position: relative;background-color: white;}#sk-container-id-152 div.sk-parallel-item:first-child::after {align-self: flex-end;width: 50%;}#sk-container-id-152 div.sk-parallel-item:last-child::after {align-self: flex-start;width: 50%;}#sk-container-id-152 div.sk-parallel-item:only-child::after {width: 0;}#sk-container-id-152 div.sk-dashed-wrapped {border: 1px dashed gray;margin: 0 0.4em 0.5em 0.4em;box-sizing: border-box;padding-bottom: 0.4em;background-color: white;}#sk-container-id-152 div.sk-label label {font-family: monospace;font-weight: bold;display: inline-block;line-height: 1.2em;}#sk-container-id-152 div.sk-label-container {text-align: center;}#sk-container-id-152 div.sk-container {/* jupyter's `normalize.less` sets `[hidden] { display: none; }` but bootstrap.min.css set `[hidden] { display: none !important; }` so we also need the `!important` here to be able to override the default hidden behavior on the sphinx rendered scikit-learn.org. See: https://github.com/scikit-learn/scikit-learn/issues/21755 */display: inline-block !important;position: relative;}#sk-container-id-152 div.sk-text-repr-fallback {display: none;}</style><div id=\"sk-container-id-152\" class=\"sk-top-container\"><div class=\"sk-text-repr-fallback\"><pre>LinearRegression()</pre><b>In a Jupyter environment, please rerun this cell to show the HTML representation or trust the notebook. <br />On GitHub, the HTML representation is unable to render, please try loading this page with nbviewer.org.</b></div><div class=\"sk-container\" hidden><div class=\"sk-item\"><div class=\"sk-estimator sk-toggleable\"><input class=\"sk-toggleable__control sk-hidden--visually\" id=\"sk-estimator-id-152\" type=\"checkbox\" checked><label for=\"sk-estimator-id-152\" class=\"sk-toggleable__label sk-toggleable__label-arrow\">LinearRegression</label><div class=\"sk-toggleable__content\"><pre>LinearRegression()</pre></div></div></div></div></div>"
      ],
      "text/plain": [
       "LinearRegression()"
      ]
     },
     "execution_count": 1716,
     "metadata": {},
     "output_type": "execute_result"
    }
   ],
   "source": [
    "regr = LinearRegression()\n",
    "regr.fit(X_train, y_train)"
   ]
  },
  {
   "cell_type": "code",
   "execution_count": 1717,
   "id": "aed62805-b2ff-4c50-b554-9958aeb09ed8",
   "metadata": {},
   "outputs": [
    {
     "data": {
      "text/plain": [
       "0.7627816744203751"
      ]
     },
     "execution_count": 1717,
     "metadata": {},
     "output_type": "execute_result"
    }
   ],
   "source": [
    "regr.score(X, y)"
   ]
  },
  {
   "cell_type": "code",
   "execution_count": 1718,
   "id": "97a0d87f-1daf-459d-9b05-bfa2b4716ac9",
   "metadata": {},
   "outputs": [
    {
     "data": {
      "text/plain": [
       "0.7664060916857263"
      ]
     },
     "execution_count": 1718,
     "metadata": {},
     "output_type": "execute_result"
    }
   ],
   "source": [
    "regr.score(X_train, y_train)"
   ]
  },
  {
   "cell_type": "code",
   "execution_count": 1719,
   "id": "54cb63e4-12b6-421f-99a4-b4f646896e4b",
   "metadata": {},
   "outputs": [
    {
     "data": {
      "text/plain": [
       "0.7515120029796545"
      ]
     },
     "execution_count": 1719,
     "metadata": {},
     "output_type": "execute_result"
    }
   ],
   "source": [
    "regr.score(X_test, y_test)"
   ]
  },
  {
   "cell_type": "code",
   "execution_count": 1720,
   "id": "1004aa1a-c6d5-41ea-ad50-280790f66243",
   "metadata": {},
   "outputs": [
    {
     "data": {
      "text/plain": [
       "array([202089.5131997 , 232789.10823029, 133870.51177516, ...,\n",
       "       148397.94502075, 100775.53505796, 218034.28350929])"
      ]
     },
     "execution_count": 1720,
     "metadata": {},
     "output_type": "execute_result"
    }
   ],
   "source": [
    "y_pred = regr.predict(X)\n",
    "y_pred"
   ]
  },
  {
   "cell_type": "code",
   "execution_count": 1721,
   "id": "4b26db95-9549-403c-a767-9fab7d4b0d63",
   "metadata": {},
   "outputs": [
    {
     "data": {
      "image/png": "[encoded data removed]",
      "text/plain": [
       "<Figure size 800x600 with 1 Axes>"
      ]
     },
     "metadata": {},
     "output_type": "display_data"
    }
   ],
   "source": [
    "plt.figure(figsize=(8,6))\n",
    "plt.scatter(y, y_pred, color='mediumseagreen', alpha=0.3, s=5)\n",
    "plt.title('Actual Sale Prices VS Predicted', size=18)\n",
    "plt.xlabel('Actual Sale Prices', size=12)\n",
    "plt.ylabel('Predictions', size=12)\n",
    "plt.savefig('../images/model_01.png', dpi=192);"
   ]
  },
  {
   "cell_type": "code",
   "execution_count": 1722,
   "id": "378978e0-fa23-4bea-8d8b-00c37f506586",
   "metadata": {},
   "outputs": [
    {
     "data": {
      "text/plain": [
       "0.7627816744203751"
      ]
     },
     "execution_count": 1722,
     "metadata": {},
     "output_type": "execute_result"
    }
   ],
   "source": [
    "metrics.r2_score(y, y_pred)"
   ]
  },
  {
   "cell_type": "code",
   "execution_count": 1723,
   "id": "cbb6b183-c3ec-4738-af38-41b84de49bee",
   "metadata": {},
   "outputs": [],
   "source": [
    "#test_y_pred = regr.predict()"
   ]
  },
  {
   "cell_type": "code",
   "execution_count": 1724,
   "id": "28b28ef7-62e0-40ce-ae6f-df67ebf951fa",
   "metadata": {},
   "outputs": [],
   "source": [
    "test01['saleprice'] = regr.predict(test01)"
   ]
  },
  {
   "cell_type": "code",
   "execution_count": 1725,
   "id": "fe71a47e-16a0-4b6c-84b3-63b851288e1d",
   "metadata": {},
   "outputs": [
    {
     "data": {
      "text/html": [
       "<div>\n",
       "<style scoped>\n",
       "    .dataframe tbody tr th:only-of-type {\n",
       "        vertical-align: middle;\n",
       "    }\n",
       "\n",
       "    .dataframe tbody tr th {\n",
       "        vertical-align: top;\n",
       "    }\n",
       "\n",
       "    .dataframe thead th {\n",
       "        text-align: right;\n",
       "    }\n",
       "</style>\n",
       "<table border=\"1\" class=\"dataframe\">\n",
       "  <thead>\n",
       "    <tr style=\"text-align: right;\">\n",
       "      <th></th>\n",
       "      <th>lot_area</th>\n",
       "      <th>overall_qual</th>\n",
       "      <th>year_built</th>\n",
       "      <th>full_bath</th>\n",
       "      <th>half_bath</th>\n",
       "      <th>bedroom_abvgr</th>\n",
       "      <th>yr_sold</th>\n",
       "      <th>central_air_Y</th>\n",
       "      <th>kitchen_qual_Fa</th>\n",
       "      <th>kitchen_qual_Gd</th>\n",
       "      <th>kitchen_qual_TA</th>\n",
       "      <th>house_style_1.5Unf</th>\n",
       "      <th>house_style_1Story</th>\n",
       "      <th>house_style_2.5Fin</th>\n",
       "      <th>house_style_2.5Unf</th>\n",
       "      <th>house_style_2Story</th>\n",
       "      <th>house_style_SFoyer</th>\n",
       "      <th>house_style_SLvl</th>\n",
       "      <th>saleprice</th>\n",
       "    </tr>\n",
       "    <tr>\n",
       "      <th>id</th>\n",
       "      <th></th>\n",
       "      <th></th>\n",
       "      <th></th>\n",
       "      <th></th>\n",
       "      <th></th>\n",
       "      <th></th>\n",
       "      <th></th>\n",
       "      <th></th>\n",
       "      <th></th>\n",
       "      <th></th>\n",
       "      <th></th>\n",
       "      <th></th>\n",
       "      <th></th>\n",
       "      <th></th>\n",
       "      <th></th>\n",
       "      <th></th>\n",
       "      <th></th>\n",
       "      <th></th>\n",
       "      <th></th>\n",
       "    </tr>\n",
       "  </thead>\n",
       "  <tbody>\n",
       "    <tr>\n",
       "      <th>2658</th>\n",
       "      <td>9142</td>\n",
       "      <td>6</td>\n",
       "      <td>1910</td>\n",
       "      <td>2</td>\n",
       "      <td>0</td>\n",
       "      <td>4</td>\n",
       "      <td>2006</td>\n",
       "      <td>0</td>\n",
       "      <td>1</td>\n",
       "      <td>0</td>\n",
       "      <td>0</td>\n",
       "      <td>0</td>\n",
       "      <td>0</td>\n",
       "      <td>0</td>\n",
       "      <td>0</td>\n",
       "      <td>1</td>\n",
       "      <td>0</td>\n",
       "      <td>0</td>\n",
       "      <td>145811.481424</td>\n",
       "    </tr>\n",
       "    <tr>\n",
       "      <th>2718</th>\n",
       "      <td>9662</td>\n",
       "      <td>5</td>\n",
       "      <td>1977</td>\n",
       "      <td>2</td>\n",
       "      <td>0</td>\n",
       "      <td>6</td>\n",
       "      <td>2006</td>\n",
       "      <td>1</td>\n",
       "      <td>0</td>\n",
       "      <td>0</td>\n",
       "      <td>1</td>\n",
       "      <td>0</td>\n",
       "      <td>1</td>\n",
       "      <td>0</td>\n",
       "      <td>0</td>\n",
       "      <td>0</td>\n",
       "      <td>0</td>\n",
       "      <td>0</td>\n",
       "      <td>160879.086322</td>\n",
       "    </tr>\n",
       "    <tr>\n",
       "      <th>2414</th>\n",
       "      <td>17104</td>\n",
       "      <td>7</td>\n",
       "      <td>2006</td>\n",
       "      <td>2</td>\n",
       "      <td>1</td>\n",
       "      <td>3</td>\n",
       "      <td>2006</td>\n",
       "      <td>1</td>\n",
       "      <td>0</td>\n",
       "      <td>1</td>\n",
       "      <td>0</td>\n",
       "      <td>0</td>\n",
       "      <td>0</td>\n",
       "      <td>0</td>\n",
       "      <td>0</td>\n",
       "      <td>1</td>\n",
       "      <td>0</td>\n",
       "      <td>0</td>\n",
       "      <td>246342.487108</td>\n",
       "    </tr>\n",
       "    <tr>\n",
       "      <th>1989</th>\n",
       "      <td>8520</td>\n",
       "      <td>5</td>\n",
       "      <td>1923</td>\n",
       "      <td>1</td>\n",
       "      <td>0</td>\n",
       "      <td>2</td>\n",
       "      <td>2007</td>\n",
       "      <td>1</td>\n",
       "      <td>0</td>\n",
       "      <td>0</td>\n",
       "      <td>1</td>\n",
       "      <td>0</td>\n",
       "      <td>1</td>\n",
       "      <td>0</td>\n",
       "      <td>0</td>\n",
       "      <td>0</td>\n",
       "      <td>0</td>\n",
       "      <td>0</td>\n",
       "      <td>107102.259146</td>\n",
       "    </tr>\n",
       "    <tr>\n",
       "      <th>625</th>\n",
       "      <td>9500</td>\n",
       "      <td>6</td>\n",
       "      <td>1963</td>\n",
       "      <td>1</td>\n",
       "      <td>1</td>\n",
       "      <td>3</td>\n",
       "      <td>2009</td>\n",
       "      <td>1</td>\n",
       "      <td>0</td>\n",
       "      <td>0</td>\n",
       "      <td>1</td>\n",
       "      <td>0</td>\n",
       "      <td>1</td>\n",
       "      <td>0</td>\n",
       "      <td>0</td>\n",
       "      <td>0</td>\n",
       "      <td>0</td>\n",
       "      <td>0</td>\n",
       "      <td>163257.740678</td>\n",
       "    </tr>\n",
       "  </tbody>\n",
       "</table>\n",
       "</div>"
      ],
      "text/plain": [
       "      lot_area  overall_qual  year_built  full_bath  half_bath  bedroom_abvgr  \\\n",
       "id                                                                              \n",
       "2658      9142             6        1910          2          0              4   \n",
       "2718      9662             5        1977          2          0              6   \n",
       "2414     17104             7        2006          2          1              3   \n",
       "1989      8520             5        1923          1          0              2   \n",
       "625       9500             6        1963          1          1              3   \n",
       "\n",
       "      yr_sold  central_air_Y  kitchen_qual_Fa  kitchen_qual_Gd  \\\n",
       "id                                                               \n",
       "2658     2006              0                1                0   \n",
       "2718     2006              1                0                0   \n",
       "2414     2006              1                0                1   \n",
       "1989     2007              1                0                0   \n",
       "625      2009              1                0                0   \n",
       "\n",
       "      kitchen_qual_TA  house_style_1.5Unf  house_style_1Story  \\\n",
       "id                                                              \n",
       "2658                0                   0                   0   \n",
       "2718                1                   0                   1   \n",
       "2414                0                   0                   0   \n",
       "1989                1                   0                   1   \n",
       "625                 1                   0                   1   \n",
       "\n",
       "      house_style_2.5Fin  house_style_2.5Unf  house_style_2Story  \\\n",
       "id                                                                 \n",
       "2658                   0                   0                   1   \n",
       "2718                   0                   0                   0   \n",
       "2414                   0                   0                   1   \n",
       "1989                   0                   0                   0   \n",
       "625                    0                   0                   0   \n",
       "\n",
       "      house_style_SFoyer  house_style_SLvl      saleprice  \n",
       "id                                                         \n",
       "2658                   0                 0  145811.481424  \n",
       "2718                   0                 0  160879.086322  \n",
       "2414                   0                 0  246342.487108  \n",
       "1989                   0                 0  107102.259146  \n",
       "625                    0                 0  163257.740678  "
      ]
     },
     "execution_count": 1725,
     "metadata": {},
     "output_type": "execute_result"
    }
   ],
   "source": [
    "test01.head()"
   ]
  },
  {
   "cell_type": "code",
   "execution_count": 1726,
   "id": "08ebdecd-ae1f-4017-957f-f870f6f7edd6",
   "metadata": {},
   "outputs": [
    {
     "data": {
      "text/html": [
       "<div>\n",
       "<style scoped>\n",
       "    .dataframe tbody tr th:only-of-type {\n",
       "        vertical-align: middle;\n",
       "    }\n",
       "\n",
       "    .dataframe tbody tr th {\n",
       "        vertical-align: top;\n",
       "    }\n",
       "\n",
       "    .dataframe thead th {\n",
       "        text-align: right;\n",
       "    }\n",
       "</style>\n",
       "<table border=\"1\" class=\"dataframe\">\n",
       "  <thead>\n",
       "    <tr style=\"text-align: right;\">\n",
       "      <th></th>\n",
       "      <th>saleprice</th>\n",
       "    </tr>\n",
       "    <tr>\n",
       "      <th>id</th>\n",
       "      <th></th>\n",
       "    </tr>\n",
       "  </thead>\n",
       "  <tbody>\n",
       "    <tr>\n",
       "      <th>2658</th>\n",
       "      <td>145811.481424</td>\n",
       "    </tr>\n",
       "    <tr>\n",
       "      <th>2718</th>\n",
       "      <td>160879.086322</td>\n",
       "    </tr>\n",
       "    <tr>\n",
       "      <th>2414</th>\n",
       "      <td>246342.487108</td>\n",
       "    </tr>\n",
       "    <tr>\n",
       "      <th>1989</th>\n",
       "      <td>107102.259146</td>\n",
       "    </tr>\n",
       "    <tr>\n",
       "      <th>625</th>\n",
       "      <td>163257.740678</td>\n",
       "    </tr>\n",
       "  </tbody>\n",
       "</table>\n",
       "</div>"
      ],
      "text/plain": [
       "          saleprice\n",
       "id                 \n",
       "2658  145811.481424\n",
       "2718  160879.086322\n",
       "2414  246342.487108\n",
       "1989  107102.259146\n",
       "625   163257.740678"
      ]
     },
     "execution_count": 1726,
     "metadata": {},
     "output_type": "execute_result"
    }
   ],
   "source": [
    "pred01 = test01[['saleprice']]\n",
    "pred01.head()"
   ]
  },
  {
   "cell_type": "code",
   "execution_count": 1727,
   "id": "eb092607-0bc2-4f4a-b4da-7fd1ece53357",
   "metadata": {},
   "outputs": [],
   "source": [
    "pred01.to_csv('../datasets/Prediction_01.csv')"
   ]
  },
  {
   "cell_type": "markdown",
   "id": "386cbe59-83bb-4157-8279-8a6c464afcb2",
   "metadata": {},
   "source": [
    "## Processing for 2nd set of predictions"
   ]
  },
  {
   "cell_type": "markdown",
   "id": "9730866a-1240-42e5-9bbd-58894ddd2956",
   "metadata": {},
   "source": [
    "Now that I've determined which categorical and numerical features I want to use in my predictions (Based on 01_EDA notebook), I'll do some preprocessing to prepare them for use in my next set of predictions"
   ]
  },
  {
   "cell_type": "code",
   "execution_count": 1728,
   "id": "92a0ab17-daf1-49b7-98f2-1f82fc879017",
   "metadata": {},
   "outputs": [],
   "source": [
    "train02 = pd.read_csv('../datasets/train_cols_cleaned_02.csv')\n",
    "test02 = pd.read_csv('../datasets/test_cols_cleaned_02.csv')"
   ]
  },
  {
   "cell_type": "markdown",
   "id": "828e881e-a68a-46cf-b250-68f8c926e79f",
   "metadata": {},
   "source": [
    "I'll add my previously cleaned dataframes to the new ones"
   ]
  },
  {
   "cell_type": "code",
   "execution_count": 1729,
   "id": "ed6ffb05-e3f3-4ec4-8fe1-77827135d3d4",
   "metadata": {},
   "outputs": [
    {
     "data": {
      "text/html": [
       "<div>\n",
       "<style scoped>\n",
       "    .dataframe tbody tr th:only-of-type {\n",
       "        vertical-align: middle;\n",
       "    }\n",
       "\n",
       "    .dataframe tbody tr th {\n",
       "        vertical-align: top;\n",
       "    }\n",
       "\n",
       "    .dataframe thead th {\n",
       "        text-align: right;\n",
       "    }\n",
       "</style>\n",
       "<table border=\"1\" class=\"dataframe\">\n",
       "  <thead>\n",
       "    <tr style=\"text-align: right;\">\n",
       "      <th></th>\n",
       "      <th>gr_liv_area</th>\n",
       "      <th>garage_area</th>\n",
       "      <th>garage_cars</th>\n",
       "      <th>total_bsmt_sf</th>\n",
       "      <th>1st_flr_sf</th>\n",
       "      <th>year_remod/add</th>\n",
       "      <th>garage_yr_blt</th>\n",
       "      <th>land_slope</th>\n",
       "      <th>neighborhood</th>\n",
       "      <th>roof_matl</th>\n",
       "      <th>...</th>\n",
       "      <th>house_style</th>\n",
       "      <th>overall_qual</th>\n",
       "      <th>year_built</th>\n",
       "      <th>central_air</th>\n",
       "      <th>full_bath</th>\n",
       "      <th>half_bath</th>\n",
       "      <th>bedroom_abvgr</th>\n",
       "      <th>kitchen_qual</th>\n",
       "      <th>yr_sold</th>\n",
       "      <th>saleprice.1</th>\n",
       "    </tr>\n",
       "  </thead>\n",
       "  <tbody>\n",
       "    <tr>\n",
       "      <th>0</th>\n",
       "      <td>1479</td>\n",
       "      <td>475.0</td>\n",
       "      <td>2.0</td>\n",
       "      <td>725.0</td>\n",
       "      <td>725</td>\n",
       "      <td>2005</td>\n",
       "      <td>1976.0</td>\n",
       "      <td>Gtl</td>\n",
       "      <td>Sawyer</td>\n",
       "      <td>CompShg</td>\n",
       "      <td>...</td>\n",
       "      <td>2Story</td>\n",
       "      <td>6</td>\n",
       "      <td>1976</td>\n",
       "      <td>Y</td>\n",
       "      <td>2</td>\n",
       "      <td>1</td>\n",
       "      <td>3</td>\n",
       "      <td>Gd</td>\n",
       "      <td>2010</td>\n",
       "      <td>130500</td>\n",
       "    </tr>\n",
       "    <tr>\n",
       "      <th>1</th>\n",
       "      <td>2122</td>\n",
       "      <td>559.0</td>\n",
       "      <td>2.0</td>\n",
       "      <td>913.0</td>\n",
       "      <td>913</td>\n",
       "      <td>1997</td>\n",
       "      <td>1997.0</td>\n",
       "      <td>Gtl</td>\n",
       "      <td>SawyerW</td>\n",
       "      <td>CompShg</td>\n",
       "      <td>...</td>\n",
       "      <td>2Story</td>\n",
       "      <td>7</td>\n",
       "      <td>1996</td>\n",
       "      <td>Y</td>\n",
       "      <td>2</td>\n",
       "      <td>1</td>\n",
       "      <td>4</td>\n",
       "      <td>Gd</td>\n",
       "      <td>2009</td>\n",
       "      <td>220000</td>\n",
       "    </tr>\n",
       "    <tr>\n",
       "      <th>2</th>\n",
       "      <td>1057</td>\n",
       "      <td>246.0</td>\n",
       "      <td>1.0</td>\n",
       "      <td>1057.0</td>\n",
       "      <td>1057</td>\n",
       "      <td>2007</td>\n",
       "      <td>1953.0</td>\n",
       "      <td>Gtl</td>\n",
       "      <td>NAmes</td>\n",
       "      <td>CompShg</td>\n",
       "      <td>...</td>\n",
       "      <td>1Story</td>\n",
       "      <td>5</td>\n",
       "      <td>1953</td>\n",
       "      <td>Y</td>\n",
       "      <td>1</td>\n",
       "      <td>0</td>\n",
       "      <td>3</td>\n",
       "      <td>Gd</td>\n",
       "      <td>2010</td>\n",
       "      <td>109000</td>\n",
       "    </tr>\n",
       "    <tr>\n",
       "      <th>3</th>\n",
       "      <td>1444</td>\n",
       "      <td>400.0</td>\n",
       "      <td>2.0</td>\n",
       "      <td>384.0</td>\n",
       "      <td>744</td>\n",
       "      <td>2007</td>\n",
       "      <td>2007.0</td>\n",
       "      <td>Gtl</td>\n",
       "      <td>Timber</td>\n",
       "      <td>CompShg</td>\n",
       "      <td>...</td>\n",
       "      <td>2Story</td>\n",
       "      <td>5</td>\n",
       "      <td>2006</td>\n",
       "      <td>Y</td>\n",
       "      <td>2</td>\n",
       "      <td>1</td>\n",
       "      <td>3</td>\n",
       "      <td>TA</td>\n",
       "      <td>2010</td>\n",
       "      <td>174000</td>\n",
       "    </tr>\n",
       "    <tr>\n",
       "      <th>4</th>\n",
       "      <td>1445</td>\n",
       "      <td>484.0</td>\n",
       "      <td>2.0</td>\n",
       "      <td>676.0</td>\n",
       "      <td>831</td>\n",
       "      <td>1993</td>\n",
       "      <td>1957.0</td>\n",
       "      <td>Gtl</td>\n",
       "      <td>SawyerW</td>\n",
       "      <td>CompShg</td>\n",
       "      <td>...</td>\n",
       "      <td>1.5Fin</td>\n",
       "      <td>6</td>\n",
       "      <td>1900</td>\n",
       "      <td>Y</td>\n",
       "      <td>2</td>\n",
       "      <td>0</td>\n",
       "      <td>3</td>\n",
       "      <td>TA</td>\n",
       "      <td>2010</td>\n",
       "      <td>138500</td>\n",
       "    </tr>\n",
       "  </tbody>\n",
       "</table>\n",
       "<p>5 rows × 25 columns</p>\n",
       "</div>"
      ],
      "text/plain": [
       "   gr_liv_area  garage_area  garage_cars  total_bsmt_sf  1st_flr_sf  \\\n",
       "0         1479        475.0          2.0          725.0         725   \n",
       "1         2122        559.0          2.0          913.0         913   \n",
       "2         1057        246.0          1.0         1057.0        1057   \n",
       "3         1444        400.0          2.0          384.0         744   \n",
       "4         1445        484.0          2.0          676.0         831   \n",
       "\n",
       "   year_remod/add  garage_yr_blt land_slope neighborhood roof_matl  ...  \\\n",
       "0            2005         1976.0        Gtl       Sawyer   CompShg  ...   \n",
       "1            1997         1997.0        Gtl      SawyerW   CompShg  ...   \n",
       "2            2007         1953.0        Gtl        NAmes   CompShg  ...   \n",
       "3            2007         2007.0        Gtl       Timber   CompShg  ...   \n",
       "4            1993         1957.0        Gtl      SawyerW   CompShg  ...   \n",
       "\n",
       "  house_style overall_qual  year_built  central_air  full_bath half_bath  \\\n",
       "0      2Story            6        1976            Y          2         1   \n",
       "1      2Story            7        1996            Y          2         1   \n",
       "2      1Story            5        1953            Y          1         0   \n",
       "3      2Story            5        2006            Y          2         1   \n",
       "4      1.5Fin            6        1900            Y          2         0   \n",
       "\n",
       "   bedroom_abvgr  kitchen_qual yr_sold  saleprice.1  \n",
       "0              3            Gd    2010       130500  \n",
       "1              4            Gd    2009       220000  \n",
       "2              3            Gd    2010       109000  \n",
       "3              3            TA    2010       174000  \n",
       "4              3            TA    2010       138500  \n",
       "\n",
       "[5 rows x 25 columns]"
      ]
     },
     "execution_count": 1729,
     "metadata": {},
     "output_type": "execute_result"
    }
   ],
   "source": [
    "train02.head()"
   ]
  },
  {
   "cell_type": "code",
   "execution_count": 1730,
   "id": "cf07d1f7-5527-497e-880d-e9d0af6bd720",
   "metadata": {},
   "outputs": [],
   "source": [
    "# dropping duplicate saleprice column\n",
    "train02 = train02.drop(columns='saleprice.1')"
   ]
  },
  {
   "cell_type": "code",
   "execution_count": 1731,
   "id": "f6e22a3c-3294-4bc3-b79f-f23bb85b1db3",
   "metadata": {},
   "outputs": [
    {
     "data": {
      "text/html": [
       "<div>\n",
       "<style scoped>\n",
       "    .dataframe tbody tr th:only-of-type {\n",
       "        vertical-align: middle;\n",
       "    }\n",
       "\n",
       "    .dataframe tbody tr th {\n",
       "        vertical-align: top;\n",
       "    }\n",
       "\n",
       "    .dataframe thead th {\n",
       "        text-align: right;\n",
       "    }\n",
       "</style>\n",
       "<table border=\"1\" class=\"dataframe\">\n",
       "  <thead>\n",
       "    <tr style=\"text-align: right;\">\n",
       "      <th></th>\n",
       "      <th>gr_liv_area</th>\n",
       "      <th>garage_area</th>\n",
       "      <th>garage_cars</th>\n",
       "      <th>total_bsmt_sf</th>\n",
       "      <th>1st_flr_sf</th>\n",
       "      <th>year_remod/add</th>\n",
       "      <th>garage_yr_blt</th>\n",
       "      <th>land_slope</th>\n",
       "      <th>neighborhood</th>\n",
       "      <th>roof_matl</th>\n",
       "      <th>...</th>\n",
       "      <th>lot_area</th>\n",
       "      <th>house_style</th>\n",
       "      <th>overall_qual</th>\n",
       "      <th>year_built</th>\n",
       "      <th>central_air</th>\n",
       "      <th>full_bath</th>\n",
       "      <th>half_bath</th>\n",
       "      <th>bedroom_abvgr</th>\n",
       "      <th>kitchen_qual</th>\n",
       "      <th>yr_sold</th>\n",
       "    </tr>\n",
       "  </thead>\n",
       "  <tbody>\n",
       "    <tr>\n",
       "      <th>0</th>\n",
       "      <td>1928</td>\n",
       "      <td>440</td>\n",
       "      <td>1</td>\n",
       "      <td>1020</td>\n",
       "      <td>908</td>\n",
       "      <td>1950</td>\n",
       "      <td>1910.0</td>\n",
       "      <td>Gtl</td>\n",
       "      <td>OldTown</td>\n",
       "      <td>CompShg</td>\n",
       "      <td>...</td>\n",
       "      <td>9142</td>\n",
       "      <td>2Story</td>\n",
       "      <td>6</td>\n",
       "      <td>1910</td>\n",
       "      <td>N</td>\n",
       "      <td>2</td>\n",
       "      <td>0</td>\n",
       "      <td>4</td>\n",
       "      <td>Fa</td>\n",
       "      <td>2006</td>\n",
       "    </tr>\n",
       "    <tr>\n",
       "      <th>1</th>\n",
       "      <td>1967</td>\n",
       "      <td>580</td>\n",
       "      <td>2</td>\n",
       "      <td>1967</td>\n",
       "      <td>1967</td>\n",
       "      <td>1977</td>\n",
       "      <td>1977.0</td>\n",
       "      <td>Gtl</td>\n",
       "      <td>Sawyer</td>\n",
       "      <td>CompShg</td>\n",
       "      <td>...</td>\n",
       "      <td>9662</td>\n",
       "      <td>1Story</td>\n",
       "      <td>5</td>\n",
       "      <td>1977</td>\n",
       "      <td>Y</td>\n",
       "      <td>2</td>\n",
       "      <td>0</td>\n",
       "      <td>6</td>\n",
       "      <td>TA</td>\n",
       "      <td>2006</td>\n",
       "    </tr>\n",
       "    <tr>\n",
       "      <th>2</th>\n",
       "      <td>1496</td>\n",
       "      <td>426</td>\n",
       "      <td>2</td>\n",
       "      <td>654</td>\n",
       "      <td>664</td>\n",
       "      <td>2006</td>\n",
       "      <td>2006.0</td>\n",
       "      <td>Gtl</td>\n",
       "      <td>Gilbert</td>\n",
       "      <td>CompShg</td>\n",
       "      <td>...</td>\n",
       "      <td>17104</td>\n",
       "      <td>2Story</td>\n",
       "      <td>7</td>\n",
       "      <td>2006</td>\n",
       "      <td>Y</td>\n",
       "      <td>2</td>\n",
       "      <td>1</td>\n",
       "      <td>3</td>\n",
       "      <td>Gd</td>\n",
       "      <td>2006</td>\n",
       "    </tr>\n",
       "    <tr>\n",
       "      <th>3</th>\n",
       "      <td>968</td>\n",
       "      <td>480</td>\n",
       "      <td>2</td>\n",
       "      <td>968</td>\n",
       "      <td>968</td>\n",
       "      <td>2006</td>\n",
       "      <td>1935.0</td>\n",
       "      <td>Gtl</td>\n",
       "      <td>OldTown</td>\n",
       "      <td>CompShg</td>\n",
       "      <td>...</td>\n",
       "      <td>8520</td>\n",
       "      <td>1Story</td>\n",
       "      <td>5</td>\n",
       "      <td>1923</td>\n",
       "      <td>Y</td>\n",
       "      <td>1</td>\n",
       "      <td>0</td>\n",
       "      <td>2</td>\n",
       "      <td>TA</td>\n",
       "      <td>2007</td>\n",
       "    </tr>\n",
       "    <tr>\n",
       "      <th>4</th>\n",
       "      <td>1394</td>\n",
       "      <td>514</td>\n",
       "      <td>2</td>\n",
       "      <td>1394</td>\n",
       "      <td>1394</td>\n",
       "      <td>1963</td>\n",
       "      <td>1963.0</td>\n",
       "      <td>Gtl</td>\n",
       "      <td>NAmes</td>\n",
       "      <td>CompShg</td>\n",
       "      <td>...</td>\n",
       "      <td>9500</td>\n",
       "      <td>1Story</td>\n",
       "      <td>6</td>\n",
       "      <td>1963</td>\n",
       "      <td>Y</td>\n",
       "      <td>1</td>\n",
       "      <td>1</td>\n",
       "      <td>3</td>\n",
       "      <td>TA</td>\n",
       "      <td>2009</td>\n",
       "    </tr>\n",
       "  </tbody>\n",
       "</table>\n",
       "<p>5 rows × 23 columns</p>\n",
       "</div>"
      ],
      "text/plain": [
       "   gr_liv_area  garage_area  garage_cars  total_bsmt_sf  1st_flr_sf  \\\n",
       "0         1928          440            1           1020         908   \n",
       "1         1967          580            2           1967        1967   \n",
       "2         1496          426            2            654         664   \n",
       "3          968          480            2            968         968   \n",
       "4         1394          514            2           1394        1394   \n",
       "\n",
       "   year_remod/add  garage_yr_blt land_slope neighborhood roof_matl  ...  \\\n",
       "0            1950         1910.0        Gtl      OldTown   CompShg  ...   \n",
       "1            1977         1977.0        Gtl       Sawyer   CompShg  ...   \n",
       "2            2006         2006.0        Gtl      Gilbert   CompShg  ...   \n",
       "3            2006         1935.0        Gtl      OldTown   CompShg  ...   \n",
       "4            1963         1963.0        Gtl        NAmes   CompShg  ...   \n",
       "\n",
       "  lot_area house_style  overall_qual  year_built central_air  full_bath  \\\n",
       "0     9142      2Story             6        1910           N          2   \n",
       "1     9662      1Story             5        1977           Y          2   \n",
       "2    17104      2Story             7        2006           Y          2   \n",
       "3     8520      1Story             5        1923           Y          1   \n",
       "4     9500      1Story             6        1963           Y          1   \n",
       "\n",
       "   half_bath bedroom_abvgr  kitchen_qual  yr_sold  \n",
       "0          0             4            Fa     2006  \n",
       "1          0             6            TA     2006  \n",
       "2          1             3            Gd     2006  \n",
       "3          0             2            TA     2007  \n",
       "4          1             3            TA     2009  \n",
       "\n",
       "[5 rows x 23 columns]"
      ]
     },
     "execution_count": 1731,
     "metadata": {},
     "output_type": "execute_result"
    }
   ],
   "source": [
    "test02.head()"
   ]
  },
  {
   "cell_type": "code",
   "execution_count": 1732,
   "id": "6fd28506-d1e6-4120-a919-8aca13d124c5",
   "metadata": {},
   "outputs": [
    {
     "data": {
      "text/plain": [
       "gr_liv_area         int64\n",
       "garage_area       float64\n",
       "garage_cars       float64\n",
       "total_bsmt_sf     float64\n",
       "1st_flr_sf          int64\n",
       "year_remod/add      int64\n",
       "garage_yr_blt     float64\n",
       "land_slope         object\n",
       "neighborhood       object\n",
       "roof_matl          object\n",
       "exter_qual         object\n",
       "bsmtfin_type_2     object\n",
       "saleprice           int64\n",
       "id                  int64\n",
       "lot_area            int64\n",
       "house_style        object\n",
       "overall_qual        int64\n",
       "year_built          int64\n",
       "central_air        object\n",
       "full_bath           int64\n",
       "half_bath           int64\n",
       "bedroom_abvgr       int64\n",
       "kitchen_qual       object\n",
       "yr_sold             int64\n",
       "dtype: object"
      ]
     },
     "execution_count": 1732,
     "metadata": {},
     "output_type": "execute_result"
    }
   ],
   "source": [
    "train02.dtypes"
   ]
  },
  {
   "cell_type": "code",
   "execution_count": 1733,
   "id": "04e221f4-2b1c-4e54-9dd4-93c2df00bc02",
   "metadata": {},
   "outputs": [],
   "source": [
    "train03 = train02.copy()"
   ]
  },
  {
   "cell_type": "code",
   "execution_count": 1734,
   "id": "e19916c5-37fe-476c-9916-7cad9a6ec809",
   "metadata": {},
   "outputs": [],
   "source": [
    "test03 = test02.copy()"
   ]
  },
  {
   "cell_type": "code",
   "execution_count": 1735,
   "id": "58163807-4ef1-45c7-8bc6-7656f586e366",
   "metadata": {},
   "outputs": [],
   "source": [
    "train02 = train02.drop(columns=['lot_area', 'house_style', 'central_air', 'half_bath', 'bedroom_abvgr', 'kitchen_qual', 'yr_sold'])"
   ]
  },
  {
   "cell_type": "code",
   "execution_count": 1736,
   "id": "afb0c0ea-e1d9-4e13-88b4-edbd649639aa",
   "metadata": {},
   "outputs": [],
   "source": [
    "test02 = test02.drop(columns=['lot_area', 'house_style', 'central_air', 'half_bath', 'bedroom_abvgr', 'kitchen_qual', 'yr_sold'])"
   ]
  },
  {
   "cell_type": "code",
   "execution_count": 1737,
   "id": "06b9d364-0d3d-4de1-a445-c02196b75f4d",
   "metadata": {},
   "outputs": [],
   "source": [
    "# creating a 4th set of train and test data for use later on\n",
    "train04 = train02[['overall_qual', 'gr_liv_area', 'garage_area', 'garage_cars', 'total_bsmt_sf', '1st_flr_sf', 'land_slope', 'neighborhood', 'roof_matl', 'exter_qual', 'bsmtfin_type_2', 'saleprice']]\n",
    "test04 = test02[['overall_qual', 'gr_liv_area', 'garage_area', 'garage_cars', 'total_bsmt_sf', '1st_flr_sf', 'land_slope', 'neighborhood', 'roof_matl', 'exter_qual', 'bsmtfin_type_2']]"
   ]
  },
  {
   "cell_type": "code",
   "execution_count": 1738,
   "id": "3fa3fb8c-809b-44a3-a41a-c108f7cc4753",
   "metadata": {},
   "outputs": [],
   "source": [
    "train02 = pd.get_dummies(train02, columns=['land_slope', 'neighborhood', 'roof_matl', 'exter_qual', 'bsmtfin_type_2'], drop_first=True, dtype='int')"
   ]
  },
  {
   "cell_type": "code",
   "execution_count": 1739,
   "id": "99bb0018-9159-49f4-9fae-6b5989f82cb8",
   "metadata": {},
   "outputs": [],
   "source": [
    "test02 = pd.get_dummies(test02, columns=['land_slope', 'neighborhood', 'roof_matl', 'exter_qual', 'bsmtfin_type_2'], drop_first=True, dtype='int')"
   ]
  },
  {
   "cell_type": "code",
   "execution_count": 1740,
   "id": "92cb9822-e300-4b7c-806d-6f148c592261",
   "metadata": {},
   "outputs": [],
   "source": [
    "train02.set_index('id', inplace=True)\n",
    "test02.set_index('id', inplace=True)"
   ]
  },
  {
   "cell_type": "code",
   "execution_count": 1741,
   "id": "b5e30f00-1fd1-48a2-a943-53b471625a79",
   "metadata": {},
   "outputs": [],
   "source": [
    "X = train02.drop(columns='saleprice')\n",
    "y = train02['saleprice']"
   ]
  },
  {
   "cell_type": "code",
   "execution_count": 1742,
   "id": "d6923cb5-99fe-44a0-a4df-f2e0d0bcb69e",
   "metadata": {},
   "outputs": [],
   "source": [
    "X_train, X_test, y_train, y_test = train_test_split(X, y, random_state=42)"
   ]
  },
  {
   "cell_type": "code",
   "execution_count": 1743,
   "id": "d4cf3157-9729-4d8b-a375-21c2a31cf5a4",
   "metadata": {},
   "outputs": [
    {
     "data": {
      "text/html": [
       "<style>#sk-container-id-153 {color: black;background-color: white;}#sk-container-id-153 pre{padding: 0;}#sk-container-id-153 div.sk-toggleable {background-color: white;}#sk-container-id-153 label.sk-toggleable__label {cursor: pointer;display: block;width: 100%;margin-bottom: 0;padding: 0.3em;box-sizing: border-box;text-align: center;}#sk-container-id-153 label.sk-toggleable__label-arrow:before {content: \"▸\";float: left;margin-right: 0.25em;color: #696969;}#sk-container-id-153 label.sk-toggleable__label-arrow:hover:before {color: black;}#sk-container-id-153 div.sk-estimator:hover label.sk-toggleable__label-arrow:before {color: black;}#sk-container-id-153 div.sk-toggleable__content {max-height: 0;max-width: 0;overflow: hidden;text-align: left;background-color: #f0f8ff;}#sk-container-id-153 div.sk-toggleable__content pre {margin: 0.2em;color: black;border-radius: 0.25em;background-color: #f0f8ff;}#sk-container-id-153 input.sk-toggleable__control:checked~div.sk-toggleable__content {max-height: 200px;max-width: 100%;overflow: auto;}#sk-container-id-153 input.sk-toggleable__control:checked~label.sk-toggleable__label-arrow:before {content: \"▾\";}#sk-container-id-153 div.sk-estimator input.sk-toggleable__control:checked~label.sk-toggleable__label {background-color: #d4ebff;}#sk-container-id-153 div.sk-label input.sk-toggleable__control:checked~label.sk-toggleable__label {background-color: #d4ebff;}#sk-container-id-153 input.sk-hidden--visually {border: 0;clip: rect(1px 1px 1px 1px);clip: rect(1px, 1px, 1px, 1px);height: 1px;margin: -1px;overflow: hidden;padding: 0;position: absolute;width: 1px;}#sk-container-id-153 div.sk-estimator {font-family: monospace;background-color: #f0f8ff;border: 1px dotted black;border-radius: 0.25em;box-sizing: border-box;margin-bottom: 0.5em;}#sk-container-id-153 div.sk-estimator:hover {background-color: #d4ebff;}#sk-container-id-153 div.sk-parallel-item::after {content: \"\";width: 100%;border-bottom: 1px solid gray;flex-grow: 1;}#sk-container-id-153 div.sk-label:hover label.sk-toggleable__label {background-color: #d4ebff;}#sk-container-id-153 div.sk-serial::before {content: \"\";position: absolute;border-left: 1px solid gray;box-sizing: border-box;top: 0;bottom: 0;left: 50%;z-index: 0;}#sk-container-id-153 div.sk-serial {display: flex;flex-direction: column;align-items: center;background-color: white;padding-right: 0.2em;padding-left: 0.2em;position: relative;}#sk-container-id-153 div.sk-item {position: relative;z-index: 1;}#sk-container-id-153 div.sk-parallel {display: flex;align-items: stretch;justify-content: center;background-color: white;position: relative;}#sk-container-id-153 div.sk-item::before, #sk-container-id-153 div.sk-parallel-item::before {content: \"\";position: absolute;border-left: 1px solid gray;box-sizing: border-box;top: 0;bottom: 0;left: 50%;z-index: -1;}#sk-container-id-153 div.sk-parallel-item {display: flex;flex-direction: column;z-index: 1;position: relative;background-color: white;}#sk-container-id-153 div.sk-parallel-item:first-child::after {align-self: flex-end;width: 50%;}#sk-container-id-153 div.sk-parallel-item:last-child::after {align-self: flex-start;width: 50%;}#sk-container-id-153 div.sk-parallel-item:only-child::after {width: 0;}#sk-container-id-153 div.sk-dashed-wrapped {border: 1px dashed gray;margin: 0 0.4em 0.5em 0.4em;box-sizing: border-box;padding-bottom: 0.4em;background-color: white;}#sk-container-id-153 div.sk-label label {font-family: monospace;font-weight: bold;display: inline-block;line-height: 1.2em;}#sk-container-id-153 div.sk-label-container {text-align: center;}#sk-container-id-153 div.sk-container {/* jupyter's `normalize.less` sets `[hidden] { display: none; }` but bootstrap.min.css set `[hidden] { display: none !important; }` so we also need the `!important` here to be able to override the default hidden behavior on the sphinx rendered scikit-learn.org. See: https://github.com/scikit-learn/scikit-learn/issues/21755 */display: inline-block !important;position: relative;}#sk-container-id-153 div.sk-text-repr-fallback {display: none;}</style><div id=\"sk-container-id-153\" class=\"sk-top-container\"><div class=\"sk-text-repr-fallback\"><pre>LinearRegression()</pre><b>In a Jupyter environment, please rerun this cell to show the HTML representation or trust the notebook. <br />On GitHub, the HTML representation is unable to render, please try loading this page with nbviewer.org.</b></div><div class=\"sk-container\" hidden><div class=\"sk-item\"><div class=\"sk-estimator sk-toggleable\"><input class=\"sk-toggleable__control sk-hidden--visually\" id=\"sk-estimator-id-153\" type=\"checkbox\" checked><label for=\"sk-estimator-id-153\" class=\"sk-toggleable__label sk-toggleable__label-arrow\">LinearRegression</label><div class=\"sk-toggleable__content\"><pre>LinearRegression()</pre></div></div></div></div></div>"
      ],
      "text/plain": [
       "LinearRegression()"
      ]
     },
     "execution_count": 1743,
     "metadata": {},
     "output_type": "execute_result"
    }
   ],
   "source": [
    "regr.fit(X_train, y_train)"
   ]
  },
  {
   "cell_type": "code",
   "execution_count": 1744,
   "id": "5912fb2e-a073-4bbb-8827-1d7f78a4c2ef",
   "metadata": {},
   "outputs": [
    {
     "data": {
      "text/plain": [
       "array([178776.13678609, 216615.18637949, 134652.62394962, ...,\n",
       "       188925.58691698, 117614.43593354, 201965.4166097 ])"
      ]
     },
     "execution_count": 1744,
     "metadata": {},
     "output_type": "execute_result"
    }
   ],
   "source": [
    "y_pred = regr.predict(X)\n",
    "y_pred"
   ]
  },
  {
   "cell_type": "code",
   "execution_count": 1745,
   "id": "4ac9df92-ee3e-4f23-9afd-6309b3109a68",
   "metadata": {},
   "outputs": [
    {
     "data": {
      "image/png": "[encoded data removed]",
      "text/plain": [
       "<Figure size 800x600 with 1 Axes>"
      ]
     },
     "metadata": {},
     "output_type": "display_data"
    }
   ],
   "source": [
    "plt.figure(figsize=(8,6))\n",
    "plt.scatter(y, y_pred, color='mediumseagreen', alpha=0.3, s=5)\n",
    "plt.title('Actual Sale Prices VS Predicted', size=18)\n",
    "plt.xlabel('Actual Sale Prices', size=12)\n",
    "plt.ylabel('Predictions', size=12)\n",
    "plt.savefig('../images/model_02.png', dpi=192);"
   ]
  },
  {
   "cell_type": "code",
   "execution_count": 1746,
   "id": "fb033ffd-f729-43a7-8121-aadb1fd5361b",
   "metadata": {},
   "outputs": [
    {
     "data": {
      "text/plain": [
       "0.8419982569119608"
      ]
     },
     "execution_count": 1746,
     "metadata": {},
     "output_type": "execute_result"
    }
   ],
   "source": [
    "regr.score(X_train, y_train)"
   ]
  },
  {
   "cell_type": "code",
   "execution_count": 1747,
   "id": "8868d723-e644-49f7-9f76-59c3fa40c2c6",
   "metadata": {},
   "outputs": [
    {
     "data": {
      "text/plain": [
       "0.8437994693524755"
      ]
     },
     "execution_count": 1747,
     "metadata": {},
     "output_type": "execute_result"
    }
   ],
   "source": [
    "regr.score(X_test, y_test)"
   ]
  },
  {
   "cell_type": "code",
   "execution_count": 1748,
   "id": "19c37104-da83-4145-9afb-a5bc93cdff6b",
   "metadata": {
    "scrolled": true
   },
   "outputs": [],
   "source": [
    "test02['saleprice'] = regr.predict(test02)"
   ]
  },
  {
   "cell_type": "code",
   "execution_count": 1749,
   "id": "3f15bb53-c6dd-4498-82f6-2b0c3318c63b",
   "metadata": {},
   "outputs": [
    {
     "data": {
      "text/html": [
       "<div>\n",
       "<style scoped>\n",
       "    .dataframe tbody tr th:only-of-type {\n",
       "        vertical-align: middle;\n",
       "    }\n",
       "\n",
       "    .dataframe tbody tr th {\n",
       "        vertical-align: top;\n",
       "    }\n",
       "\n",
       "    .dataframe thead th {\n",
       "        text-align: right;\n",
       "    }\n",
       "</style>\n",
       "<table border=\"1\" class=\"dataframe\">\n",
       "  <thead>\n",
       "    <tr style=\"text-align: right;\">\n",
       "      <th></th>\n",
       "      <th>saleprice</th>\n",
       "    </tr>\n",
       "    <tr>\n",
       "      <th>id</th>\n",
       "      <th></th>\n",
       "    </tr>\n",
       "  </thead>\n",
       "  <tbody>\n",
       "    <tr>\n",
       "      <th>2658</th>\n",
       "      <td>146069.341252</td>\n",
       "    </tr>\n",
       "    <tr>\n",
       "      <th>2718</th>\n",
       "      <td>193539.392997</td>\n",
       "    </tr>\n",
       "    <tr>\n",
       "      <th>2414</th>\n",
       "      <td>192758.712294</td>\n",
       "    </tr>\n",
       "    <tr>\n",
       "      <th>1989</th>\n",
       "      <td>123688.884862</td>\n",
       "    </tr>\n",
       "    <tr>\n",
       "      <th>625</th>\n",
       "      <td>166753.039870</td>\n",
       "    </tr>\n",
       "  </tbody>\n",
       "</table>\n",
       "</div>"
      ],
      "text/plain": [
       "          saleprice\n",
       "id                 \n",
       "2658  146069.341252\n",
       "2718  193539.392997\n",
       "2414  192758.712294\n",
       "1989  123688.884862\n",
       "625   166753.039870"
      ]
     },
     "execution_count": 1749,
     "metadata": {},
     "output_type": "execute_result"
    }
   ],
   "source": [
    "pred02 = test02[['saleprice']]\n",
    "pred02.head()"
   ]
  },
  {
   "cell_type": "code",
   "execution_count": 1750,
   "id": "521e394e-afd7-426b-b1b0-897201da6503",
   "metadata": {},
   "outputs": [],
   "source": [
    "pred02.to_csv('../datasets/Prediction_02.csv')"
   ]
  },
  {
   "cell_type": "markdown",
   "id": "e744ea41-51b1-4162-8e46-a3ab1eab2118",
   "metadata": {},
   "source": [
    "## Processing for 3rd set of predictions"
   ]
  },
  {
   "cell_type": "markdown",
   "id": "171abcaf-97be-496b-94dd-3fd16667fa7f",
   "metadata": {},
   "source": [
    "I'm going to try using some regularization to see if I can improve upon my previous model"
   ]
  },
  {
   "cell_type": "code",
   "execution_count": 1751,
   "id": "b47f2095-3b9b-4ef0-8299-5c4398c69318",
   "metadata": {
    "jupyter": {
     "source_hidden": true
    }
   },
   "outputs": [],
   "source": [
    "sc = StandardScaler()\n",
    "Z_train = sc.fit_transform(X_train)\n",
    "Z_test = sc.transform(X_test)"
   ]
  },
  {
   "cell_type": "code",
   "execution_count": 1752,
   "id": "30a483ff-4dcd-4948-8f86-6a467956742b",
   "metadata": {},
   "outputs": [
    {
     "data": {
      "text/plain": [
       "0.8419982569119608"
      ]
     },
     "execution_count": 1752,
     "metadata": {},
     "output_type": "execute_result"
    }
   ],
   "source": [
    "regr2 = LinearRegression()\n",
    "regr2.fit(Z_train, y_train)\n",
    "regr2.score(Z_train, y_train)"
   ]
  },
  {
   "cell_type": "code",
   "execution_count": 1753,
   "id": "116cc0a0-04dc-4b35-bbcb-aa1435ef063e",
   "metadata": {},
   "outputs": [
    {
     "data": {
      "text/plain": [
       "0.843799469352476"
      ]
     },
     "execution_count": 1753,
     "metadata": {},
     "output_type": "execute_result"
    }
   ],
   "source": [
    "regr2.score(Z_test, y_test)"
   ]
  },
  {
   "cell_type": "code",
   "execution_count": 1754,
   "id": "2e493ec8-3eac-461d-bc6b-a6f029eccaac",
   "metadata": {},
   "outputs": [],
   "source": [
    "ridge = Ridge(alpha=10)"
   ]
  },
  {
   "cell_type": "code",
   "execution_count": 1755,
   "id": "76925103-f6ba-43df-bb27-6d570e36a4d1",
   "metadata": {},
   "outputs": [
    {
     "data": {
      "text/html": [
       "<style>#sk-container-id-154 {color: black;background-color: white;}#sk-container-id-154 pre{padding: 0;}#sk-container-id-154 div.sk-toggleable {background-color: white;}#sk-container-id-154 label.sk-toggleable__label {cursor: pointer;display: block;width: 100%;margin-bottom: 0;padding: 0.3em;box-sizing: border-box;text-align: center;}#sk-container-id-154 label.sk-toggleable__label-arrow:before {content: \"▸\";float: left;margin-right: 0.25em;color: #696969;}#sk-container-id-154 label.sk-toggleable__label-arrow:hover:before {color: black;}#sk-container-id-154 div.sk-estimator:hover label.sk-toggleable__label-arrow:before {color: black;}#sk-container-id-154 div.sk-toggleable__content {max-height: 0;max-width: 0;overflow: hidden;text-align: left;background-color: #f0f8ff;}#sk-container-id-154 div.sk-toggleable__content pre {margin: 0.2em;color: black;border-radius: 0.25em;background-color: #f0f8ff;}#sk-container-id-154 input.sk-toggleable__control:checked~div.sk-toggleable__content {max-height: 200px;max-width: 100%;overflow: auto;}#sk-container-id-154 input.sk-toggleable__control:checked~label.sk-toggleable__label-arrow:before {content: \"▾\";}#sk-container-id-154 div.sk-estimator input.sk-toggleable__control:checked~label.sk-toggleable__label {background-color: #d4ebff;}#sk-container-id-154 div.sk-label input.sk-toggleable__control:checked~label.sk-toggleable__label {background-color: #d4ebff;}#sk-container-id-154 input.sk-hidden--visually {border: 0;clip: rect(1px 1px 1px 1px);clip: rect(1px, 1px, 1px, 1px);height: 1px;margin: -1px;overflow: hidden;padding: 0;position: absolute;width: 1px;}#sk-container-id-154 div.sk-estimator {font-family: monospace;background-color: #f0f8ff;border: 1px dotted black;border-radius: 0.25em;box-sizing: border-box;margin-bottom: 0.5em;}#sk-container-id-154 div.sk-estimator:hover {background-color: #d4ebff;}#sk-container-id-154 div.sk-parallel-item::after {content: \"\";width: 100%;border-bottom: 1px solid gray;flex-grow: 1;}#sk-container-id-154 div.sk-label:hover label.sk-toggleable__label {background-color: #d4ebff;}#sk-container-id-154 div.sk-serial::before {content: \"\";position: absolute;border-left: 1px solid gray;box-sizing: border-box;top: 0;bottom: 0;left: 50%;z-index: 0;}#sk-container-id-154 div.sk-serial {display: flex;flex-direction: column;align-items: center;background-color: white;padding-right: 0.2em;padding-left: 0.2em;position: relative;}#sk-container-id-154 div.sk-item {position: relative;z-index: 1;}#sk-container-id-154 div.sk-parallel {display: flex;align-items: stretch;justify-content: center;background-color: white;position: relative;}#sk-container-id-154 div.sk-item::before, #sk-container-id-154 div.sk-parallel-item::before {content: \"\";position: absolute;border-left: 1px solid gray;box-sizing: border-box;top: 0;bottom: 0;left: 50%;z-index: -1;}#sk-container-id-154 div.sk-parallel-item {display: flex;flex-direction: column;z-index: 1;position: relative;background-color: white;}#sk-container-id-154 div.sk-parallel-item:first-child::after {align-self: flex-end;width: 50%;}#sk-container-id-154 div.sk-parallel-item:last-child::after {align-self: flex-start;width: 50%;}#sk-container-id-154 div.sk-parallel-item:only-child::after {width: 0;}#sk-container-id-154 div.sk-dashed-wrapped {border: 1px dashed gray;margin: 0 0.4em 0.5em 0.4em;box-sizing: border-box;padding-bottom: 0.4em;background-color: white;}#sk-container-id-154 div.sk-label label {font-family: monospace;font-weight: bold;display: inline-block;line-height: 1.2em;}#sk-container-id-154 div.sk-label-container {text-align: center;}#sk-container-id-154 div.sk-container {/* jupyter's `normalize.less` sets `[hidden] { display: none; }` but bootstrap.min.css set `[hidden] { display: none !important; }` so we also need the `!important` here to be able to override the default hidden behavior on the sphinx rendered scikit-learn.org. See: https://github.com/scikit-learn/scikit-learn/issues/21755 */display: inline-block !important;position: relative;}#sk-container-id-154 div.sk-text-repr-fallback {display: none;}</style><div id=\"sk-container-id-154\" class=\"sk-top-container\"><div class=\"sk-text-repr-fallback\"><pre>Ridge(alpha=10)</pre><b>In a Jupyter environment, please rerun this cell to show the HTML representation or trust the notebook. <br />On GitHub, the HTML representation is unable to render, please try loading this page with nbviewer.org.</b></div><div class=\"sk-container\" hidden><div class=\"sk-item\"><div class=\"sk-estimator sk-toggleable\"><input class=\"sk-toggleable__control sk-hidden--visually\" id=\"sk-estimator-id-154\" type=\"checkbox\" checked><label for=\"sk-estimator-id-154\" class=\"sk-toggleable__label sk-toggleable__label-arrow\">Ridge</label><div class=\"sk-toggleable__content\"><pre>Ridge(alpha=10)</pre></div></div></div></div></div>"
      ],
      "text/plain": [
       "Ridge(alpha=10)"
      ]
     },
     "execution_count": 1755,
     "metadata": {},
     "output_type": "execute_result"
    }
   ],
   "source": [
    "ridge.fit(Z_train, y_train)"
   ]
  },
  {
   "cell_type": "code",
   "execution_count": 1756,
   "id": "edd117e7-bbc3-4ede-98f0-b08c4a62f198",
   "metadata": {},
   "outputs": [
    {
     "data": {
      "text/plain": [
       "0.8417417904414626"
      ]
     },
     "execution_count": 1756,
     "metadata": {},
     "output_type": "execute_result"
    }
   ],
   "source": [
    "ridge.score(Z_train, y_train)"
   ]
  },
  {
   "cell_type": "code",
   "execution_count": 1757,
   "id": "a1e5af26-5591-4a8c-91dd-d3e10da00a2a",
   "metadata": {},
   "outputs": [
    {
     "data": {
      "text/plain": [
       "0.845856451931412"
      ]
     },
     "execution_count": 1757,
     "metadata": {},
     "output_type": "execute_result"
    }
   ],
   "source": [
    "ridge.score(Z_test, y_test)"
   ]
  },
  {
   "cell_type": "code",
   "execution_count": 1758,
   "id": "d99c8e66-a258-4d0d-806e-027f06264c71",
   "metadata": {},
   "outputs": [
    {
     "data": {
      "text/plain": [
       "array([1.00000000e+00, 1.12332403e+00, 1.26185688e+00, 1.41747416e+00,\n",
       "       1.59228279e+00, 1.78864953e+00, 2.00923300e+00, 2.25701972e+00,\n",
       "       2.53536449e+00, 2.84803587e+00, 3.19926714e+00, 3.59381366e+00,\n",
       "       4.03701726e+00, 4.53487851e+00, 5.09413801e+00, 5.72236766e+00,\n",
       "       6.42807312e+00, 7.22080902e+00, 8.11130831e+00, 9.11162756e+00,\n",
       "       1.02353102e+01, 1.14975700e+01, 1.29154967e+01, 1.45082878e+01,\n",
       "       1.62975083e+01, 1.83073828e+01, 2.05651231e+01, 2.31012970e+01,\n",
       "       2.59502421e+01, 2.91505306e+01, 3.27454916e+01, 3.67837977e+01,\n",
       "       4.13201240e+01, 4.64158883e+01, 5.21400829e+01, 5.85702082e+01,\n",
       "       6.57933225e+01, 7.39072203e+01, 8.30217568e+01, 9.32603347e+01,\n",
       "       1.04761575e+02, 1.17681195e+02, 1.32194115e+02, 1.48496826e+02,\n",
       "       1.66810054e+02, 1.87381742e+02, 2.10490414e+02, 2.36448941e+02,\n",
       "       2.65608778e+02, 2.98364724e+02, 3.35160265e+02, 3.76493581e+02,\n",
       "       4.22924287e+02, 4.75081016e+02, 5.33669923e+02, 5.99484250e+02,\n",
       "       6.73415066e+02, 7.56463328e+02, 8.49753436e+02, 9.54548457e+02,\n",
       "       1.07226722e+03, 1.20450354e+03, 1.35304777e+03, 1.51991108e+03,\n",
       "       1.70735265e+03, 1.91791026e+03, 2.15443469e+03, 2.42012826e+03,\n",
       "       2.71858824e+03, 3.05385551e+03, 3.43046929e+03, 3.85352859e+03,\n",
       "       4.32876128e+03, 4.86260158e+03, 5.46227722e+03, 6.13590727e+03,\n",
       "       6.89261210e+03, 7.74263683e+03, 8.69749003e+03, 9.77009957e+03,\n",
       "       1.09749877e+04, 1.23284674e+04, 1.38488637e+04, 1.55567614e+04,\n",
       "       1.74752840e+04, 1.96304065e+04, 2.20513074e+04, 2.47707636e+04,\n",
       "       2.78255940e+04, 3.12571585e+04, 3.51119173e+04, 3.94420606e+04,\n",
       "       4.43062146e+04, 4.97702356e+04, 5.59081018e+04, 6.28029144e+04,\n",
       "       7.05480231e+04, 7.92482898e+04, 8.90215085e+04, 1.00000000e+05])"
      ]
     },
     "execution_count": 1758,
     "metadata": {},
     "output_type": "execute_result"
    }
   ],
   "source": [
    "ridge_alphas = np.logspace(0, 5, 100)\n",
    "ridge_alphas"
   ]
  },
  {
   "cell_type": "code",
   "execution_count": 1759,
   "id": "f1047a90-fdff-4370-9dfa-aaa4ddfc2d0b",
   "metadata": {},
   "outputs": [
    {
     "data": {
      "text/html": [
       "<style>#sk-container-id-155 {color: black;background-color: white;}#sk-container-id-155 pre{padding: 0;}#sk-container-id-155 div.sk-toggleable {background-color: white;}#sk-container-id-155 label.sk-toggleable__label {cursor: pointer;display: block;width: 100%;margin-bottom: 0;padding: 0.3em;box-sizing: border-box;text-align: center;}#sk-container-id-155 label.sk-toggleable__label-arrow:before {content: \"▸\";float: left;margin-right: 0.25em;color: #696969;}#sk-container-id-155 label.sk-toggleable__label-arrow:hover:before {color: black;}#sk-container-id-155 div.sk-estimator:hover label.sk-toggleable__label-arrow:before {color: black;}#sk-container-id-155 div.sk-toggleable__content {max-height: 0;max-width: 0;overflow: hidden;text-align: left;background-color: #f0f8ff;}#sk-container-id-155 div.sk-toggleable__content pre {margin: 0.2em;color: black;border-radius: 0.25em;background-color: #f0f8ff;}#sk-container-id-155 input.sk-toggleable__control:checked~div.sk-toggleable__content {max-height: 200px;max-width: 100%;overflow: auto;}#sk-container-id-155 input.sk-toggleable__control:checked~label.sk-toggleable__label-arrow:before {content: \"▾\";}#sk-container-id-155 div.sk-estimator input.sk-toggleable__control:checked~label.sk-toggleable__label {background-color: #d4ebff;}#sk-container-id-155 div.sk-label input.sk-toggleable__control:checked~label.sk-toggleable__label {background-color: #d4ebff;}#sk-container-id-155 input.sk-hidden--visually {border: 0;clip: rect(1px 1px 1px 1px);clip: rect(1px, 1px, 1px, 1px);height: 1px;margin: -1px;overflow: hidden;padding: 0;position: absolute;width: 1px;}#sk-container-id-155 div.sk-estimator {font-family: monospace;background-color: #f0f8ff;border: 1px dotted black;border-radius: 0.25em;box-sizing: border-box;margin-bottom: 0.5em;}#sk-container-id-155 div.sk-estimator:hover {background-color: #d4ebff;}#sk-container-id-155 div.sk-parallel-item::after {content: \"\";width: 100%;border-bottom: 1px solid gray;flex-grow: 1;}#sk-container-id-155 div.sk-label:hover label.sk-toggleable__label {background-color: #d4ebff;}#sk-container-id-155 div.sk-serial::before {content: \"\";position: absolute;border-left: 1px solid gray;box-sizing: border-box;top: 0;bottom: 0;left: 50%;z-index: 0;}#sk-container-id-155 div.sk-serial {display: flex;flex-direction: column;align-items: center;background-color: white;padding-right: 0.2em;padding-left: 0.2em;position: relative;}#sk-container-id-155 div.sk-item {position: relative;z-index: 1;}#sk-container-id-155 div.sk-parallel {display: flex;align-items: stretch;justify-content: center;background-color: white;position: relative;}#sk-container-id-155 div.sk-item::before, #sk-container-id-155 div.sk-parallel-item::before {content: \"\";position: absolute;border-left: 1px solid gray;box-sizing: border-box;top: 0;bottom: 0;left: 50%;z-index: -1;}#sk-container-id-155 div.sk-parallel-item {display: flex;flex-direction: column;z-index: 1;position: relative;background-color: white;}#sk-container-id-155 div.sk-parallel-item:first-child::after {align-self: flex-end;width: 50%;}#sk-container-id-155 div.sk-parallel-item:last-child::after {align-self: flex-start;width: 50%;}#sk-container-id-155 div.sk-parallel-item:only-child::after {width: 0;}#sk-container-id-155 div.sk-dashed-wrapped {border: 1px dashed gray;margin: 0 0.4em 0.5em 0.4em;box-sizing: border-box;padding-bottom: 0.4em;background-color: white;}#sk-container-id-155 div.sk-label label {font-family: monospace;font-weight: bold;display: inline-block;line-height: 1.2em;}#sk-container-id-155 div.sk-label-container {text-align: center;}#sk-container-id-155 div.sk-container {/* jupyter's `normalize.less` sets `[hidden] { display: none; }` but bootstrap.min.css set `[hidden] { display: none !important; }` so we also need the `!important` here to be able to override the default hidden behavior on the sphinx rendered scikit-learn.org. See: https://github.com/scikit-learn/scikit-learn/issues/21755 */display: inline-block !important;position: relative;}#sk-container-id-155 div.sk-text-repr-fallback {display: none;}</style><div id=\"sk-container-id-155\" class=\"sk-top-container\"><div class=\"sk-text-repr-fallback\"><pre>RidgeCV(alphas=array([1.00000000e+00, 1.12332403e+00, 1.26185688e+00, 1.41747416e+00,\n",
       "       1.59228279e+00, 1.78864953e+00, 2.00923300e+00, 2.25701972e+00,\n",
       "       2.53536449e+00, 2.84803587e+00, 3.19926714e+00, 3.59381366e+00,\n",
       "       4.03701726e+00, 4.53487851e+00, 5.09413801e+00, 5.72236766e+00,\n",
       "       6.42807312e+00, 7.22080902e+00, 8.11130831e+00, 9.11162756e+00,\n",
       "       1.02353102e+01, 1.14975700e+0...\n",
       "       6.89261210e+03, 7.74263683e+03, 8.69749003e+03, 9.77009957e+03,\n",
       "       1.09749877e+04, 1.23284674e+04, 1.38488637e+04, 1.55567614e+04,\n",
       "       1.74752840e+04, 1.96304065e+04, 2.20513074e+04, 2.47707636e+04,\n",
       "       2.78255940e+04, 3.12571585e+04, 3.51119173e+04, 3.94420606e+04,\n",
       "       4.43062146e+04, 4.97702356e+04, 5.59081018e+04, 6.28029144e+04,\n",
       "       7.05480231e+04, 7.92482898e+04, 8.90215085e+04, 1.00000000e+05]),\n",
       "        cv=5)</pre><b>In a Jupyter environment, please rerun this cell to show the HTML representation or trust the notebook. <br />On GitHub, the HTML representation is unable to render, please try loading this page with nbviewer.org.</b></div><div class=\"sk-container\" hidden><div class=\"sk-item\"><div class=\"sk-estimator sk-toggleable\"><input class=\"sk-toggleable__control sk-hidden--visually\" id=\"sk-estimator-id-155\" type=\"checkbox\" checked><label for=\"sk-estimator-id-155\" class=\"sk-toggleable__label sk-toggleable__label-arrow\">RidgeCV</label><div class=\"sk-toggleable__content\"><pre>RidgeCV(alphas=array([1.00000000e+00, 1.12332403e+00, 1.26185688e+00, 1.41747416e+00,\n",
       "       1.59228279e+00, 1.78864953e+00, 2.00923300e+00, 2.25701972e+00,\n",
       "       2.53536449e+00, 2.84803587e+00, 3.19926714e+00, 3.59381366e+00,\n",
       "       4.03701726e+00, 4.53487851e+00, 5.09413801e+00, 5.72236766e+00,\n",
       "       6.42807312e+00, 7.22080902e+00, 8.11130831e+00, 9.11162756e+00,\n",
       "       1.02353102e+01, 1.14975700e+0...\n",
       "       6.89261210e+03, 7.74263683e+03, 8.69749003e+03, 9.77009957e+03,\n",
       "       1.09749877e+04, 1.23284674e+04, 1.38488637e+04, 1.55567614e+04,\n",
       "       1.74752840e+04, 1.96304065e+04, 2.20513074e+04, 2.47707636e+04,\n",
       "       2.78255940e+04, 3.12571585e+04, 3.51119173e+04, 3.94420606e+04,\n",
       "       4.43062146e+04, 4.97702356e+04, 5.59081018e+04, 6.28029144e+04,\n",
       "       7.05480231e+04, 7.92482898e+04, 8.90215085e+04, 1.00000000e+05]),\n",
       "        cv=5)</pre></div></div></div></div></div>"
      ],
      "text/plain": [
       "RidgeCV(alphas=array([1.00000000e+00, 1.12332403e+00, 1.26185688e+00, 1.41747416e+00,\n",
       "       1.59228279e+00, 1.78864953e+00, 2.00923300e+00, 2.25701972e+00,\n",
       "       2.53536449e+00, 2.84803587e+00, 3.19926714e+00, 3.59381366e+00,\n",
       "       4.03701726e+00, 4.53487851e+00, 5.09413801e+00, 5.72236766e+00,\n",
       "       6.42807312e+00, 7.22080902e+00, 8.11130831e+00, 9.11162756e+00,\n",
       "       1.02353102e+01, 1.14975700e+0...\n",
       "       6.89261210e+03, 7.74263683e+03, 8.69749003e+03, 9.77009957e+03,\n",
       "       1.09749877e+04, 1.23284674e+04, 1.38488637e+04, 1.55567614e+04,\n",
       "       1.74752840e+04, 1.96304065e+04, 2.20513074e+04, 2.47707636e+04,\n",
       "       2.78255940e+04, 3.12571585e+04, 3.51119173e+04, 3.94420606e+04,\n",
       "       4.43062146e+04, 4.97702356e+04, 5.59081018e+04, 6.28029144e+04,\n",
       "       7.05480231e+04, 7.92482898e+04, 8.90215085e+04, 1.00000000e+05]),\n",
       "        cv=5)"
      ]
     },
     "execution_count": 1759,
     "metadata": {},
     "output_type": "execute_result"
    }
   ],
   "source": [
    "ridge_cv = RidgeCV(alphas=ridge_alphas, cv=5)\n",
    "ridge_cv.fit(Z_train, y_train)"
   ]
  },
  {
   "cell_type": "code",
   "execution_count": 1760,
   "id": "48ea4998-b423-434b-ae5a-103a62eda768",
   "metadata": {},
   "outputs": [
    {
     "data": {
      "text/plain": [
       "23.101297000831593"
      ]
     },
     "execution_count": 1760,
     "metadata": {},
     "output_type": "execute_result"
    }
   ],
   "source": [
    "ridge_cv.alpha_"
   ]
  },
  {
   "cell_type": "code",
   "execution_count": 1761,
   "id": "f1e88fd3-0ce0-4004-b4c5-efff1a58836e",
   "metadata": {},
   "outputs": [
    {
     "data": {
      "text/plain": [
       "0.8141386592479147"
      ]
     },
     "execution_count": 1761,
     "metadata": {},
     "output_type": "execute_result"
    }
   ],
   "source": [
    "ridge_cv.best_score_"
   ]
  },
  {
   "cell_type": "code",
   "execution_count": 1762,
   "id": "a8ccf5ca-9023-4e68-a694-733286158185",
   "metadata": {},
   "outputs": [
    {
     "data": {
      "text/plain": [
       "0.8410404071845554"
      ]
     },
     "execution_count": 1762,
     "metadata": {},
     "output_type": "execute_result"
    }
   ],
   "source": [
    "ridge_cv.score(Z_train, y_train)"
   ]
  },
  {
   "cell_type": "code",
   "execution_count": 1763,
   "id": "d7bf268f-80d5-4210-b7bf-0b86acc8243d",
   "metadata": {},
   "outputs": [
    {
     "data": {
      "text/plain": [
       "0.8472943538665144"
      ]
     },
     "execution_count": 1763,
     "metadata": {},
     "output_type": "execute_result"
    }
   ],
   "source": [
    "ridge_cv.score(Z_test, y_test)"
   ]
  },
  {
   "cell_type": "markdown",
   "id": "7e52963b-b3c7-4545-ac0e-a5f4a368a30d",
   "metadata": {},
   "source": [
    "It looks like using ridge regression barely improved my model"
   ]
  },
  {
   "cell_type": "code",
   "execution_count": 1764,
   "id": "502fa3bd-faa4-4dc6-98fd-35a6c1a933fc",
   "metadata": {},
   "outputs": [
    {
     "data": {
      "text/plain": [
       "(1538, 49)"
      ]
     },
     "execution_count": 1764,
     "metadata": {},
     "output_type": "execute_result"
    }
   ],
   "source": [
    "Z_train.shape"
   ]
  },
  {
   "cell_type": "markdown",
   "id": "e3f6000e-fe92-4923-95fd-7b0da605e254",
   "metadata": {},
   "source": [
    "Fitting lasso regression"
   ]
  },
  {
   "cell_type": "code",
   "execution_count": 1765,
   "id": "0461c36a-9b5d-423f-a0ad-6128e08091b6",
   "metadata": {},
   "outputs": [
    {
     "data": {
      "text/html": [
       "<style>#sk-container-id-156 {color: black;background-color: white;}#sk-container-id-156 pre{padding: 0;}#sk-container-id-156 div.sk-toggleable {background-color: white;}#sk-container-id-156 label.sk-toggleable__label {cursor: pointer;display: block;width: 100%;margin-bottom: 0;padding: 0.3em;box-sizing: border-box;text-align: center;}#sk-container-id-156 label.sk-toggleable__label-arrow:before {content: \"▸\";float: left;margin-right: 0.25em;color: #696969;}#sk-container-id-156 label.sk-toggleable__label-arrow:hover:before {color: black;}#sk-container-id-156 div.sk-estimator:hover label.sk-toggleable__label-arrow:before {color: black;}#sk-container-id-156 div.sk-toggleable__content {max-height: 0;max-width: 0;overflow: hidden;text-align: left;background-color: #f0f8ff;}#sk-container-id-156 div.sk-toggleable__content pre {margin: 0.2em;color: black;border-radius: 0.25em;background-color: #f0f8ff;}#sk-container-id-156 input.sk-toggleable__control:checked~div.sk-toggleable__content {max-height: 200px;max-width: 100%;overflow: auto;}#sk-container-id-156 input.sk-toggleable__control:checked~label.sk-toggleable__label-arrow:before {content: \"▾\";}#sk-container-id-156 div.sk-estimator input.sk-toggleable__control:checked~label.sk-toggleable__label {background-color: #d4ebff;}#sk-container-id-156 div.sk-label input.sk-toggleable__control:checked~label.sk-toggleable__label {background-color: #d4ebff;}#sk-container-id-156 input.sk-hidden--visually {border: 0;clip: rect(1px 1px 1px 1px);clip: rect(1px, 1px, 1px, 1px);height: 1px;margin: -1px;overflow: hidden;padding: 0;position: absolute;width: 1px;}#sk-container-id-156 div.sk-estimator {font-family: monospace;background-color: #f0f8ff;border: 1px dotted black;border-radius: 0.25em;box-sizing: border-box;margin-bottom: 0.5em;}#sk-container-id-156 div.sk-estimator:hover {background-color: #d4ebff;}#sk-container-id-156 div.sk-parallel-item::after {content: \"\";width: 100%;border-bottom: 1px solid gray;flex-grow: 1;}#sk-container-id-156 div.sk-label:hover label.sk-toggleable__label {background-color: #d4ebff;}#sk-container-id-156 div.sk-serial::before {content: \"\";position: absolute;border-left: 1px solid gray;box-sizing: border-box;top: 0;bottom: 0;left: 50%;z-index: 0;}#sk-container-id-156 div.sk-serial {display: flex;flex-direction: column;align-items: center;background-color: white;padding-right: 0.2em;padding-left: 0.2em;position: relative;}#sk-container-id-156 div.sk-item {position: relative;z-index: 1;}#sk-container-id-156 div.sk-parallel {display: flex;align-items: stretch;justify-content: center;background-color: white;position: relative;}#sk-container-id-156 div.sk-item::before, #sk-container-id-156 div.sk-parallel-item::before {content: \"\";position: absolute;border-left: 1px solid gray;box-sizing: border-box;top: 0;bottom: 0;left: 50%;z-index: -1;}#sk-container-id-156 div.sk-parallel-item {display: flex;flex-direction: column;z-index: 1;position: relative;background-color: white;}#sk-container-id-156 div.sk-parallel-item:first-child::after {align-self: flex-end;width: 50%;}#sk-container-id-156 div.sk-parallel-item:last-child::after {align-self: flex-start;width: 50%;}#sk-container-id-156 div.sk-parallel-item:only-child::after {width: 0;}#sk-container-id-156 div.sk-dashed-wrapped {border: 1px dashed gray;margin: 0 0.4em 0.5em 0.4em;box-sizing: border-box;padding-bottom: 0.4em;background-color: white;}#sk-container-id-156 div.sk-label label {font-family: monospace;font-weight: bold;display: inline-block;line-height: 1.2em;}#sk-container-id-156 div.sk-label-container {text-align: center;}#sk-container-id-156 div.sk-container {/* jupyter's `normalize.less` sets `[hidden] { display: none; }` but bootstrap.min.css set `[hidden] { display: none !important; }` so we also need the `!important` here to be able to override the default hidden behavior on the sphinx rendered scikit-learn.org. See: https://github.com/scikit-learn/scikit-learn/issues/21755 */display: inline-block !important;position: relative;}#sk-container-id-156 div.sk-text-repr-fallback {display: none;}</style><div id=\"sk-container-id-156\" class=\"sk-top-container\"><div class=\"sk-text-repr-fallback\"><pre>Lasso()</pre><b>In a Jupyter environment, please rerun this cell to show the HTML representation or trust the notebook. <br />On GitHub, the HTML representation is unable to render, please try loading this page with nbviewer.org.</b></div><div class=\"sk-container\" hidden><div class=\"sk-item\"><div class=\"sk-estimator sk-toggleable\"><input class=\"sk-toggleable__control sk-hidden--visually\" id=\"sk-estimator-id-156\" type=\"checkbox\" checked><label for=\"sk-estimator-id-156\" class=\"sk-toggleable__label sk-toggleable__label-arrow\">Lasso</label><div class=\"sk-toggleable__content\"><pre>Lasso()</pre></div></div></div></div></div>"
      ],
      "text/plain": [
       "Lasso()"
      ]
     },
     "execution_count": 1765,
     "metadata": {},
     "output_type": "execute_result"
    }
   ],
   "source": [
    "lasso = Lasso(alpha=1.0)\n",
    "lasso.fit(Z_train, y_train)"
   ]
  },
  {
   "cell_type": "markdown",
   "id": "b9da2a8b-a37e-4c3e-baed-f9fff0a3eee7",
   "metadata": {},
   "source": [
    "Using cross validation to find the optimal alpha value"
   ]
  },
  {
   "cell_type": "code",
   "execution_count": 1766,
   "id": "781ede46-2e73-4ce2-936c-113a1a0f19c5",
   "metadata": {},
   "outputs": [],
   "source": [
    "lasso_cv = LassoCV(n_alphas=100, cv=5, max_iter=50000)"
   ]
  },
  {
   "cell_type": "code",
   "execution_count": 1767,
   "id": "fc10e838-d405-48ef-be55-ef7be4141ca4",
   "metadata": {},
   "outputs": [
    {
     "data": {
      "text/html": [
       "<style>#sk-container-id-157 {color: black;background-color: white;}#sk-container-id-157 pre{padding: 0;}#sk-container-id-157 div.sk-toggleable {background-color: white;}#sk-container-id-157 label.sk-toggleable__label {cursor: pointer;display: block;width: 100%;margin-bottom: 0;padding: 0.3em;box-sizing: border-box;text-align: center;}#sk-container-id-157 label.sk-toggleable__label-arrow:before {content: \"▸\";float: left;margin-right: 0.25em;color: #696969;}#sk-container-id-157 label.sk-toggleable__label-arrow:hover:before {color: black;}#sk-container-id-157 div.sk-estimator:hover label.sk-toggleable__label-arrow:before {color: black;}#sk-container-id-157 div.sk-toggleable__content {max-height: 0;max-width: 0;overflow: hidden;text-align: left;background-color: #f0f8ff;}#sk-container-id-157 div.sk-toggleable__content pre {margin: 0.2em;color: black;border-radius: 0.25em;background-color: #f0f8ff;}#sk-container-id-157 input.sk-toggleable__control:checked~div.sk-toggleable__content {max-height: 200px;max-width: 100%;overflow: auto;}#sk-container-id-157 input.sk-toggleable__control:checked~label.sk-toggleable__label-arrow:before {content: \"▾\";}#sk-container-id-157 div.sk-estimator input.sk-toggleable__control:checked~label.sk-toggleable__label {background-color: #d4ebff;}#sk-container-id-157 div.sk-label input.sk-toggleable__control:checked~label.sk-toggleable__label {background-color: #d4ebff;}#sk-container-id-157 input.sk-hidden--visually {border: 0;clip: rect(1px 1px 1px 1px);clip: rect(1px, 1px, 1px, 1px);height: 1px;margin: -1px;overflow: hidden;padding: 0;position: absolute;width: 1px;}#sk-container-id-157 div.sk-estimator {font-family: monospace;background-color: #f0f8ff;border: 1px dotted black;border-radius: 0.25em;box-sizing: border-box;margin-bottom: 0.5em;}#sk-container-id-157 div.sk-estimator:hover {background-color: #d4ebff;}#sk-container-id-157 div.sk-parallel-item::after {content: \"\";width: 100%;border-bottom: 1px solid gray;flex-grow: 1;}#sk-container-id-157 div.sk-label:hover label.sk-toggleable__label {background-color: #d4ebff;}#sk-container-id-157 div.sk-serial::before {content: \"\";position: absolute;border-left: 1px solid gray;box-sizing: border-box;top: 0;bottom: 0;left: 50%;z-index: 0;}#sk-container-id-157 div.sk-serial {display: flex;flex-direction: column;align-items: center;background-color: white;padding-right: 0.2em;padding-left: 0.2em;position: relative;}#sk-container-id-157 div.sk-item {position: relative;z-index: 1;}#sk-container-id-157 div.sk-parallel {display: flex;align-items: stretch;justify-content: center;background-color: white;position: relative;}#sk-container-id-157 div.sk-item::before, #sk-container-id-157 div.sk-parallel-item::before {content: \"\";position: absolute;border-left: 1px solid gray;box-sizing: border-box;top: 0;bottom: 0;left: 50%;z-index: -1;}#sk-container-id-157 div.sk-parallel-item {display: flex;flex-direction: column;z-index: 1;position: relative;background-color: white;}#sk-container-id-157 div.sk-parallel-item:first-child::after {align-self: flex-end;width: 50%;}#sk-container-id-157 div.sk-parallel-item:last-child::after {align-self: flex-start;width: 50%;}#sk-container-id-157 div.sk-parallel-item:only-child::after {width: 0;}#sk-container-id-157 div.sk-dashed-wrapped {border: 1px dashed gray;margin: 0 0.4em 0.5em 0.4em;box-sizing: border-box;padding-bottom: 0.4em;background-color: white;}#sk-container-id-157 div.sk-label label {font-family: monospace;font-weight: bold;display: inline-block;line-height: 1.2em;}#sk-container-id-157 div.sk-label-container {text-align: center;}#sk-container-id-157 div.sk-container {/* jupyter's `normalize.less` sets `[hidden] { display: none; }` but bootstrap.min.css set `[hidden] { display: none !important; }` so we also need the `!important` here to be able to override the default hidden behavior on the sphinx rendered scikit-learn.org. See: https://github.com/scikit-learn/scikit-learn/issues/21755 */display: inline-block !important;position: relative;}#sk-container-id-157 div.sk-text-repr-fallback {display: none;}</style><div id=\"sk-container-id-157\" class=\"sk-top-container\"><div class=\"sk-text-repr-fallback\"><pre>LassoCV(cv=5, max_iter=50000)</pre><b>In a Jupyter environment, please rerun this cell to show the HTML representation or trust the notebook. <br />On GitHub, the HTML representation is unable to render, please try loading this page with nbviewer.org.</b></div><div class=\"sk-container\" hidden><div class=\"sk-item\"><div class=\"sk-estimator sk-toggleable\"><input class=\"sk-toggleable__control sk-hidden--visually\" id=\"sk-estimator-id-157\" type=\"checkbox\" checked><label for=\"sk-estimator-id-157\" class=\"sk-toggleable__label sk-toggleable__label-arrow\">LassoCV</label><div class=\"sk-toggleable__content\"><pre>LassoCV(cv=5, max_iter=50000)</pre></div></div></div></div></div>"
      ],
      "text/plain": [
       "LassoCV(cv=5, max_iter=50000)"
      ]
     },
     "execution_count": 1767,
     "metadata": {},
     "output_type": "execute_result"
    }
   ],
   "source": [
    "lasso_cv.fit(Z_train, y_train)"
   ]
  },
  {
   "cell_type": "code",
   "execution_count": 1768,
   "id": "b1f1a884-308e-4a7e-837d-ccfd6d844b48",
   "metadata": {},
   "outputs": [
    {
     "data": {
      "text/plain": [
       "136.35133355701274"
      ]
     },
     "execution_count": 1768,
     "metadata": {},
     "output_type": "execute_result"
    }
   ],
   "source": [
    "lasso_cv.alpha_"
   ]
  },
  {
   "cell_type": "code",
   "execution_count": 1769,
   "id": "22b33368-49cd-4417-95aa-42b48db5b830",
   "metadata": {},
   "outputs": [
    {
     "data": {
      "text/plain": [
       "0.8414101261929638"
      ]
     },
     "execution_count": 1769,
     "metadata": {},
     "output_type": "execute_result"
    }
   ],
   "source": [
    "lasso_cv.score(Z_train, y_train)"
   ]
  },
  {
   "cell_type": "code",
   "execution_count": 1770,
   "id": "8bc86d9e-1449-4497-8249-687f8b3c990c",
   "metadata": {},
   "outputs": [
    {
     "data": {
      "text/plain": [
       "0.8478318622070453"
      ]
     },
     "execution_count": 1770,
     "metadata": {},
     "output_type": "execute_result"
    }
   ],
   "source": [
    "lasso_cv.score(Z_test, y_test)"
   ]
  },
  {
   "cell_type": "code",
   "execution_count": 1771,
   "id": "7152eece-3502-4592-8012-7f3ff053b95d",
   "metadata": {},
   "outputs": [
    {
     "data": {
      "text/plain": [
       "array([ 2.13296695e+04,  4.29471867e+03,  4.52544013e+03,  4.55773401e+03,\n",
       "        2.36049863e+03,  5.94879333e+03, -2.53577881e+02,  1.84829611e+04,\n",
       "        6.35632109e+03,  2.31597530e+01,  4.24628147e+03,  2.64419323e+02,\n",
       "       -1.66744104e+03, -2.51344743e+03,  3.58849349e+01,  1.30740923e+03,\n",
       "        7.81864562e+02,  4.01960754e+03, -2.86422342e+03, -2.81307615e+02,\n",
       "       -3.50262355e+02, -1.86869557e+03, -1.26758468e+03, -0.00000000e+00,\n",
       "        9.12147541e+02, -1.69102150e+03,  3.66867547e+02,  7.90905530e+03,\n",
       "        1.10792573e+04, -3.23136070e+03, -6.56041836e+02,  1.43027223e+02,\n",
       "       -1.09816232e+03,  1.50420595e+03,  9.39594935e+03,  3.43070321e+03,\n",
       "        1.26348577e+03, -7.62273945e+02, -2.59354078e+02,  4.53500191e+03,\n",
       "       -7.59652108e+03, -2.66050070e+04, -2.97967866e+04, -1.55686895e+03,\n",
       "        2.93253719e+02, -1.41815358e+03, -2.12695586e+03, -1.53073359e+03,\n",
       "       -3.41575431e+03])"
      ]
     },
     "execution_count": 1771,
     "metadata": {},
     "output_type": "execute_result"
    }
   ],
   "source": [
    "coefficients = lasso_cv.coef_\n",
    "coefficients"
   ]
  },
  {
   "cell_type": "markdown",
   "id": "47c3cc04-fd1c-4d55-8873-2f75090e8cab",
   "metadata": {},
   "source": [
    "It looks like only one feature was removed by my lasso model"
   ]
  },
  {
   "cell_type": "code",
   "execution_count": 1772,
   "id": "bc41d961-b205-4b88-ba2b-af01dc5849b5",
   "metadata": {
    "collapsed": true,
    "jupyter": {
     "outputs_hidden": true
    },
    "scrolled": true
   },
   "outputs": [
    {
     "name": "stdout",
     "output_type": "stream",
     "text": [
      "                 Feature   Coefficient\n",
      "0            gr_liv_area  21329.669458\n",
      "1            garage_area   4294.718671\n",
      "2            garage_cars   4525.440127\n",
      "3          total_bsmt_sf   4557.734012\n",
      "4             1st_flr_sf   2360.498633\n",
      "5         year_remod/add   5948.793333\n",
      "6          garage_yr_blt   -253.577881\n",
      "7           overall_qual  18482.961121\n",
      "8             year_built   6356.321090\n",
      "9              full_bath     23.159753\n",
      "10        land_slope_Mod   4246.281474\n",
      "11        land_slope_Sev    264.419323\n",
      "12  neighborhood_Blueste  -1667.441041\n",
      "13   neighborhood_BrDale  -2513.447425\n",
      "14  neighborhood_BrkSide     35.884935\n",
      "15  neighborhood_ClearCr   1307.409233\n",
      "16  neighborhood_CollgCr    781.864562\n",
      "17  neighborhood_Crawfor   4019.607545\n",
      "18  neighborhood_Edwards  -2864.223421\n",
      "19  neighborhood_Gilbert   -281.307615\n",
      "20   neighborhood_Greens   -350.262355\n",
      "21   neighborhood_IDOTRR  -1868.695572\n",
      "22  neighborhood_MeadowV  -1267.584681\n",
      "23  neighborhood_Mitchel     -0.000000\n",
      "24    neighborhood_NAmes    912.147541\n",
      "25  neighborhood_NPkVill  -1691.021498\n",
      "26   neighborhood_NWAmes    366.867547\n",
      "27  neighborhood_NoRidge   7909.055295\n",
      "28  neighborhood_NridgHt  11079.257262\n",
      "29  neighborhood_OldTown  -3231.360696\n",
      "30    neighborhood_SWISU   -656.041836\n",
      "31   neighborhood_Sawyer    143.027223\n",
      "32  neighborhood_SawyerW  -1098.162321\n",
      "33  neighborhood_Somerst   1504.205949\n",
      "34  neighborhood_StoneBr   9395.949353\n",
      "35   neighborhood_Timber   3430.703206\n",
      "36  neighborhood_Veenker   1263.485773\n",
      "37     roof_matl_Tar&Grv   -762.273945\n",
      "38     roof_matl_WdShake   -259.354078\n",
      "39     roof_matl_WdShngl   4535.001907\n",
      "40         exter_qual_Fa  -7596.521080\n",
      "41         exter_qual_Gd -26605.006982\n",
      "42         exter_qual_TA -29796.786555\n",
      "43    bsmtfin_type_2_BLQ  -1556.868946\n",
      "44    bsmtfin_type_2_GLQ    293.253719\n",
      "45    bsmtfin_type_2_LwQ  -1418.153581\n",
      "46   bsmtfin_type_2_NONE  -2126.955865\n",
      "47    bsmtfin_type_2_Rec  -1530.733588\n",
      "48    bsmtfin_type_2_Unf  -3415.754314\n"
     ]
    }
   ],
   "source": [
    "feature_importance = pd.DataFrame({'Feature': X.columns, 'Coefficient': coefficients})\n",
    "print(feature_importance)"
   ]
  },
  {
   "cell_type": "markdown",
   "id": "e27c342c-659d-4d79-ab57-74ceffdcbd1c",
   "metadata": {},
   "source": [
    "Neither lasso nor ridge regression seemed to meaningfully improve my model so I'm going to try making new predictions using all variables from my first and second sets of predictions"
   ]
  },
  {
   "cell_type": "code",
   "execution_count": 1773,
   "id": "ad3ee63d-133e-448c-a933-b26d4ab8c8a4",
   "metadata": {},
   "outputs": [
    {
     "data": {
      "text/html": [
       "<div>\n",
       "<style scoped>\n",
       "    .dataframe tbody tr th:only-of-type {\n",
       "        vertical-align: middle;\n",
       "    }\n",
       "\n",
       "    .dataframe tbody tr th {\n",
       "        vertical-align: top;\n",
       "    }\n",
       "\n",
       "    .dataframe thead th {\n",
       "        text-align: right;\n",
       "    }\n",
       "</style>\n",
       "<table border=\"1\" class=\"dataframe\">\n",
       "  <thead>\n",
       "    <tr style=\"text-align: right;\">\n",
       "      <th></th>\n",
       "      <th>gr_liv_area</th>\n",
       "      <th>garage_area</th>\n",
       "      <th>garage_cars</th>\n",
       "      <th>total_bsmt_sf</th>\n",
       "      <th>1st_flr_sf</th>\n",
       "      <th>year_remod/add</th>\n",
       "      <th>garage_yr_blt</th>\n",
       "      <th>land_slope</th>\n",
       "      <th>neighborhood</th>\n",
       "      <th>roof_matl</th>\n",
       "      <th>...</th>\n",
       "      <th>lot_area</th>\n",
       "      <th>house_style</th>\n",
       "      <th>overall_qual</th>\n",
       "      <th>year_built</th>\n",
       "      <th>central_air</th>\n",
       "      <th>full_bath</th>\n",
       "      <th>half_bath</th>\n",
       "      <th>bedroom_abvgr</th>\n",
       "      <th>kitchen_qual</th>\n",
       "      <th>yr_sold</th>\n",
       "    </tr>\n",
       "  </thead>\n",
       "  <tbody>\n",
       "    <tr>\n",
       "      <th>0</th>\n",
       "      <td>1479</td>\n",
       "      <td>475.0</td>\n",
       "      <td>2.0</td>\n",
       "      <td>725.0</td>\n",
       "      <td>725</td>\n",
       "      <td>2005</td>\n",
       "      <td>1976.0</td>\n",
       "      <td>Gtl</td>\n",
       "      <td>Sawyer</td>\n",
       "      <td>CompShg</td>\n",
       "      <td>...</td>\n",
       "      <td>13517</td>\n",
       "      <td>2Story</td>\n",
       "      <td>6</td>\n",
       "      <td>1976</td>\n",
       "      <td>Y</td>\n",
       "      <td>2</td>\n",
       "      <td>1</td>\n",
       "      <td>3</td>\n",
       "      <td>Gd</td>\n",
       "      <td>2010</td>\n",
       "    </tr>\n",
       "    <tr>\n",
       "      <th>1</th>\n",
       "      <td>2122</td>\n",
       "      <td>559.0</td>\n",
       "      <td>2.0</td>\n",
       "      <td>913.0</td>\n",
       "      <td>913</td>\n",
       "      <td>1997</td>\n",
       "      <td>1997.0</td>\n",
       "      <td>Gtl</td>\n",
       "      <td>SawyerW</td>\n",
       "      <td>CompShg</td>\n",
       "      <td>...</td>\n",
       "      <td>11492</td>\n",
       "      <td>2Story</td>\n",
       "      <td>7</td>\n",
       "      <td>1996</td>\n",
       "      <td>Y</td>\n",
       "      <td>2</td>\n",
       "      <td>1</td>\n",
       "      <td>4</td>\n",
       "      <td>Gd</td>\n",
       "      <td>2009</td>\n",
       "    </tr>\n",
       "    <tr>\n",
       "      <th>2</th>\n",
       "      <td>1057</td>\n",
       "      <td>246.0</td>\n",
       "      <td>1.0</td>\n",
       "      <td>1057.0</td>\n",
       "      <td>1057</td>\n",
       "      <td>2007</td>\n",
       "      <td>1953.0</td>\n",
       "      <td>Gtl</td>\n",
       "      <td>NAmes</td>\n",
       "      <td>CompShg</td>\n",
       "      <td>...</td>\n",
       "      <td>7922</td>\n",
       "      <td>1Story</td>\n",
       "      <td>5</td>\n",
       "      <td>1953</td>\n",
       "      <td>Y</td>\n",
       "      <td>1</td>\n",
       "      <td>0</td>\n",
       "      <td>3</td>\n",
       "      <td>Gd</td>\n",
       "      <td>2010</td>\n",
       "    </tr>\n",
       "    <tr>\n",
       "      <th>3</th>\n",
       "      <td>1444</td>\n",
       "      <td>400.0</td>\n",
       "      <td>2.0</td>\n",
       "      <td>384.0</td>\n",
       "      <td>744</td>\n",
       "      <td>2007</td>\n",
       "      <td>2007.0</td>\n",
       "      <td>Gtl</td>\n",
       "      <td>Timber</td>\n",
       "      <td>CompShg</td>\n",
       "      <td>...</td>\n",
       "      <td>9802</td>\n",
       "      <td>2Story</td>\n",
       "      <td>5</td>\n",
       "      <td>2006</td>\n",
       "      <td>Y</td>\n",
       "      <td>2</td>\n",
       "      <td>1</td>\n",
       "      <td>3</td>\n",
       "      <td>TA</td>\n",
       "      <td>2010</td>\n",
       "    </tr>\n",
       "    <tr>\n",
       "      <th>4</th>\n",
       "      <td>1445</td>\n",
       "      <td>484.0</td>\n",
       "      <td>2.0</td>\n",
       "      <td>676.0</td>\n",
       "      <td>831</td>\n",
       "      <td>1993</td>\n",
       "      <td>1957.0</td>\n",
       "      <td>Gtl</td>\n",
       "      <td>SawyerW</td>\n",
       "      <td>CompShg</td>\n",
       "      <td>...</td>\n",
       "      <td>14235</td>\n",
       "      <td>1.5Fin</td>\n",
       "      <td>6</td>\n",
       "      <td>1900</td>\n",
       "      <td>Y</td>\n",
       "      <td>2</td>\n",
       "      <td>0</td>\n",
       "      <td>3</td>\n",
       "      <td>TA</td>\n",
       "      <td>2010</td>\n",
       "    </tr>\n",
       "  </tbody>\n",
       "</table>\n",
       "<p>5 rows × 24 columns</p>\n",
       "</div>"
      ],
      "text/plain": [
       "   gr_liv_area  garage_area  garage_cars  total_bsmt_sf  1st_flr_sf  \\\n",
       "0         1479        475.0          2.0          725.0         725   \n",
       "1         2122        559.0          2.0          913.0         913   \n",
       "2         1057        246.0          1.0         1057.0        1057   \n",
       "3         1444        400.0          2.0          384.0         744   \n",
       "4         1445        484.0          2.0          676.0         831   \n",
       "\n",
       "   year_remod/add  garage_yr_blt land_slope neighborhood roof_matl  ...  \\\n",
       "0            2005         1976.0        Gtl       Sawyer   CompShg  ...   \n",
       "1            1997         1997.0        Gtl      SawyerW   CompShg  ...   \n",
       "2            2007         1953.0        Gtl        NAmes   CompShg  ...   \n",
       "3            2007         2007.0        Gtl       Timber   CompShg  ...   \n",
       "4            1993         1957.0        Gtl      SawyerW   CompShg  ...   \n",
       "\n",
       "  lot_area house_style  overall_qual  year_built  central_air full_bath  \\\n",
       "0    13517      2Story             6        1976            Y         2   \n",
       "1    11492      2Story             7        1996            Y         2   \n",
       "2     7922      1Story             5        1953            Y         1   \n",
       "3     9802      2Story             5        2006            Y         2   \n",
       "4    14235      1.5Fin             6        1900            Y         2   \n",
       "\n",
       "   half_bath  bedroom_abvgr kitchen_qual  yr_sold  \n",
       "0          1              3           Gd     2010  \n",
       "1          1              4           Gd     2009  \n",
       "2          0              3           Gd     2010  \n",
       "3          1              3           TA     2010  \n",
       "4          0              3           TA     2010  \n",
       "\n",
       "[5 rows x 24 columns]"
      ]
     },
     "execution_count": 1773,
     "metadata": {},
     "output_type": "execute_result"
    }
   ],
   "source": [
    "train03.head()"
   ]
  },
  {
   "cell_type": "code",
   "execution_count": 1775,
   "id": "93379b2b-4fc4-4ada-9a39-9c663a73b901",
   "metadata": {},
   "outputs": [],
   "source": [
    "train03 = pd.get_dummies(train03, columns=['land_slope', 'neighborhood', 'roof_matl', 'exter_qual', 'bsmtfin_type_2', 'house_style', 'central_air', 'kitchen_qual'], drop_first=True, dtype='int')\n",
    "test03 = pd.get_dummies(test03, columns=['land_slope', 'neighborhood', 'roof_matl', 'exter_qual', 'bsmtfin_type_2', 'house_style', 'central_air', 'kitchen_qual'], drop_first=True, dtype='int')"
   ]
  },
  {
   "cell_type": "code",
   "execution_count": 1776,
   "id": "a3bad74d-d0b4-40ae-8e20-63d53413a6f5",
   "metadata": {},
   "outputs": [],
   "source": [
    "train03.set_index('id', inplace=True)\n",
    "test03.set_index('id', inplace=True)"
   ]
  },
  {
   "cell_type": "code",
   "execution_count": 1777,
   "id": "03cfbd9e-63d5-4cd6-bc90-3622aa950642",
   "metadata": {},
   "outputs": [],
   "source": [
    "X = train03.drop(columns=['saleprice'])\n",
    "y = train03['saleprice']"
   ]
  },
  {
   "cell_type": "code",
   "execution_count": 1778,
   "id": "899d4150-2114-4aba-8782-e514bf55f102",
   "metadata": {},
   "outputs": [],
   "source": [
    "X_train, X_test, y_train, y_test = train_test_split(X, y, random_state=42)"
   ]
  },
  {
   "cell_type": "code",
   "execution_count": 1779,
   "id": "939b391f-eba8-48f4-a287-892964e8fbd5",
   "metadata": {},
   "outputs": [
    {
     "data": {
      "text/html": [
       "<style>#sk-container-id-158 {color: black;background-color: white;}#sk-container-id-158 pre{padding: 0;}#sk-container-id-158 div.sk-toggleable {background-color: white;}#sk-container-id-158 label.sk-toggleable__label {cursor: pointer;display: block;width: 100%;margin-bottom: 0;padding: 0.3em;box-sizing: border-box;text-align: center;}#sk-container-id-158 label.sk-toggleable__label-arrow:before {content: \"▸\";float: left;margin-right: 0.25em;color: #696969;}#sk-container-id-158 label.sk-toggleable__label-arrow:hover:before {color: black;}#sk-container-id-158 div.sk-estimator:hover label.sk-toggleable__label-arrow:before {color: black;}#sk-container-id-158 div.sk-toggleable__content {max-height: 0;max-width: 0;overflow: hidden;text-align: left;background-color: #f0f8ff;}#sk-container-id-158 div.sk-toggleable__content pre {margin: 0.2em;color: black;border-radius: 0.25em;background-color: #f0f8ff;}#sk-container-id-158 input.sk-toggleable__control:checked~div.sk-toggleable__content {max-height: 200px;max-width: 100%;overflow: auto;}#sk-container-id-158 input.sk-toggleable__control:checked~label.sk-toggleable__label-arrow:before {content: \"▾\";}#sk-container-id-158 div.sk-estimator input.sk-toggleable__control:checked~label.sk-toggleable__label {background-color: #d4ebff;}#sk-container-id-158 div.sk-label input.sk-toggleable__control:checked~label.sk-toggleable__label {background-color: #d4ebff;}#sk-container-id-158 input.sk-hidden--visually {border: 0;clip: rect(1px 1px 1px 1px);clip: rect(1px, 1px, 1px, 1px);height: 1px;margin: -1px;overflow: hidden;padding: 0;position: absolute;width: 1px;}#sk-container-id-158 div.sk-estimator {font-family: monospace;background-color: #f0f8ff;border: 1px dotted black;border-radius: 0.25em;box-sizing: border-box;margin-bottom: 0.5em;}#sk-container-id-158 div.sk-estimator:hover {background-color: #d4ebff;}#sk-container-id-158 div.sk-parallel-item::after {content: \"\";width: 100%;border-bottom: 1px solid gray;flex-grow: 1;}#sk-container-id-158 div.sk-label:hover label.sk-toggleable__label {background-color: #d4ebff;}#sk-container-id-158 div.sk-serial::before {content: \"\";position: absolute;border-left: 1px solid gray;box-sizing: border-box;top: 0;bottom: 0;left: 50%;z-index: 0;}#sk-container-id-158 div.sk-serial {display: flex;flex-direction: column;align-items: center;background-color: white;padding-right: 0.2em;padding-left: 0.2em;position: relative;}#sk-container-id-158 div.sk-item {position: relative;z-index: 1;}#sk-container-id-158 div.sk-parallel {display: flex;align-items: stretch;justify-content: center;background-color: white;position: relative;}#sk-container-id-158 div.sk-item::before, #sk-container-id-158 div.sk-parallel-item::before {content: \"\";position: absolute;border-left: 1px solid gray;box-sizing: border-box;top: 0;bottom: 0;left: 50%;z-index: -1;}#sk-container-id-158 div.sk-parallel-item {display: flex;flex-direction: column;z-index: 1;position: relative;background-color: white;}#sk-container-id-158 div.sk-parallel-item:first-child::after {align-self: flex-end;width: 50%;}#sk-container-id-158 div.sk-parallel-item:last-child::after {align-self: flex-start;width: 50%;}#sk-container-id-158 div.sk-parallel-item:only-child::after {width: 0;}#sk-container-id-158 div.sk-dashed-wrapped {border: 1px dashed gray;margin: 0 0.4em 0.5em 0.4em;box-sizing: border-box;padding-bottom: 0.4em;background-color: white;}#sk-container-id-158 div.sk-label label {font-family: monospace;font-weight: bold;display: inline-block;line-height: 1.2em;}#sk-container-id-158 div.sk-label-container {text-align: center;}#sk-container-id-158 div.sk-container {/* jupyter's `normalize.less` sets `[hidden] { display: none; }` but bootstrap.min.css set `[hidden] { display: none !important; }` so we also need the `!important` here to be able to override the default hidden behavior on the sphinx rendered scikit-learn.org. See: https://github.com/scikit-learn/scikit-learn/issues/21755 */display: inline-block !important;position: relative;}#sk-container-id-158 div.sk-text-repr-fallback {display: none;}</style><div id=\"sk-container-id-158\" class=\"sk-top-container\"><div class=\"sk-text-repr-fallback\"><pre>LinearRegression()</pre><b>In a Jupyter environment, please rerun this cell to show the HTML representation or trust the notebook. <br />On GitHub, the HTML representation is unable to render, please try loading this page with nbviewer.org.</b></div><div class=\"sk-container\" hidden><div class=\"sk-item\"><div class=\"sk-estimator sk-toggleable\"><input class=\"sk-toggleable__control sk-hidden--visually\" id=\"sk-estimator-id-158\" type=\"checkbox\" checked><label for=\"sk-estimator-id-158\" class=\"sk-toggleable__label sk-toggleable__label-arrow\">LinearRegression</label><div class=\"sk-toggleable__content\"><pre>LinearRegression()</pre></div></div></div></div></div>"
      ],
      "text/plain": [
       "LinearRegression()"
      ]
     },
     "execution_count": 1779,
     "metadata": {},
     "output_type": "execute_result"
    }
   ],
   "source": [
    "regr = LinearRegression()\n",
    "regr.fit(X_train, y_train)"
   ]
  },
  {
   "cell_type": "code",
   "execution_count": 1780,
   "id": "6aea52e0-bffb-4c4c-a9b9-fb4d682b0ff7",
   "metadata": {},
   "outputs": [
    {
     "data": {
      "text/plain": [
       "0.8524139071274942"
      ]
     },
     "execution_count": 1780,
     "metadata": {},
     "output_type": "execute_result"
    }
   ],
   "source": [
    "regr.score(X_train, y_train)"
   ]
  },
  {
   "cell_type": "code",
   "execution_count": 1781,
   "id": "7a7624a3-3ce6-4fa7-887a-4e79ec36fe91",
   "metadata": {},
   "outputs": [
    {
     "data": {
      "text/plain": [
       "0.8602605949335448"
      ]
     },
     "execution_count": 1781,
     "metadata": {},
     "output_type": "execute_result"
    }
   ],
   "source": [
    "regr.score(X_test, y_test)"
   ]
  },
  {
   "cell_type": "code",
   "execution_count": 1782,
   "id": "5d60ee21-9d75-4cc0-8fd3-f83c10e5cc0a",
   "metadata": {},
   "outputs": [
    {
     "name": "stderr",
     "output_type": "stream",
     "text": [
      "C:\\Users\\rockm\\anaconda3\\Lib\\site-packages\\IPython\\core\\displayhook.py:281: UserWarning: Output cache limit (currently 1000 entries) hit.\n",
      "Flushing oldest 200 entries.\n",
      "  warn('Output cache limit (currently {sz} entries) hit.\\n'\n"
     ]
    },
    {
     "data": {
      "text/plain": [
       "array([182664.26187432, 219356.23748522, 138581.11273626, ...,\n",
       "       187595.56168841, 119297.33116539, 197405.77104545])"
      ]
     },
     "execution_count": 1782,
     "metadata": {},
     "output_type": "execute_result"
    }
   ],
   "source": [
    "y_pred = regr.predict(X)\n",
    "y_pred"
   ]
  },
  {
   "cell_type": "code",
   "execution_count": 1783,
   "id": "25e321f1-4b87-455a-bce3-2f94798a7740",
   "metadata": {},
   "outputs": [
    {
     "data": {
      "image/png": "[encoded data removed]",
      "text/plain": [
       "<Figure size 800x600 with 1 Axes>"
      ]
     },
     "metadata": {},
     "output_type": "display_data"
    }
   ],
   "source": [
    "plt.figure(figsize=(8,6))\n",
    "plt.scatter(y, y_pred, color='mediumseagreen', alpha=0.3, s=5)\n",
    "plt.title('Actual Sale Prices VS Predicted', size=18)\n",
    "plt.xlabel('Actual Sale Prices', size=12)\n",
    "plt.ylabel('Predictions', size=12)\n",
    "plt.savefig('../images/model_03.png', dpi=192);"
   ]
  },
  {
   "cell_type": "code",
   "execution_count": 1784,
   "id": "e15fb800-9f6c-4183-a6b6-48bf004d4dec",
   "metadata": {},
   "outputs": [],
   "source": [
    "test03['saleprice'] = regr.predict(test03)"
   ]
  },
  {
   "cell_type": "code",
   "execution_count": 1785,
   "id": "03c0c81f-1e58-4660-9d8d-42042a7f3df1",
   "metadata": {},
   "outputs": [
    {
     "data": {
      "text/html": [
       "<div>\n",
       "<style scoped>\n",
       "    .dataframe tbody tr th:only-of-type {\n",
       "        vertical-align: middle;\n",
       "    }\n",
       "\n",
       "    .dataframe tbody tr th {\n",
       "        vertical-align: top;\n",
       "    }\n",
       "\n",
       "    .dataframe thead th {\n",
       "        text-align: right;\n",
       "    }\n",
       "</style>\n",
       "<table border=\"1\" class=\"dataframe\">\n",
       "  <thead>\n",
       "    <tr style=\"text-align: right;\">\n",
       "      <th></th>\n",
       "      <th>saleprice</th>\n",
       "    </tr>\n",
       "    <tr>\n",
       "      <th>id</th>\n",
       "      <th></th>\n",
       "    </tr>\n",
       "  </thead>\n",
       "  <tbody>\n",
       "    <tr>\n",
       "      <th>2658</th>\n",
       "      <td>138290.528721</td>\n",
       "    </tr>\n",
       "    <tr>\n",
       "      <th>2718</th>\n",
       "      <td>183725.169282</td>\n",
       "    </tr>\n",
       "    <tr>\n",
       "      <th>2414</th>\n",
       "      <td>198600.832988</td>\n",
       "    </tr>\n",
       "    <tr>\n",
       "      <th>1989</th>\n",
       "      <td>123159.970949</td>\n",
       "    </tr>\n",
       "    <tr>\n",
       "      <th>625</th>\n",
       "      <td>167292.173060</td>\n",
       "    </tr>\n",
       "  </tbody>\n",
       "</table>\n",
       "</div>"
      ],
      "text/plain": [
       "          saleprice\n",
       "id                 \n",
       "2658  138290.528721\n",
       "2718  183725.169282\n",
       "2414  198600.832988\n",
       "1989  123159.970949\n",
       "625   167292.173060"
      ]
     },
     "execution_count": 1785,
     "metadata": {},
     "output_type": "execute_result"
    }
   ],
   "source": [
    "pred03 = test03[['saleprice']]\n",
    "pred03.head()"
   ]
  },
  {
   "cell_type": "code",
   "execution_count": 1786,
   "id": "1ef87b55-9bf7-4334-905b-24276f475c29",
   "metadata": {},
   "outputs": [],
   "source": [
    "pred03.to_csv('../datasets/Prediction_03.csv')"
   ]
  },
  {
   "cell_type": "markdown",
   "id": "2d6e7872-ee92-40b2-8b40-d09bbaf7f47e",
   "metadata": {},
   "source": [
    "My best score yet, now I'll try using less features, only the most correlated numeric features and my ANOVA results."
   ]
  },
  {
   "cell_type": "code",
   "execution_count": 1787,
   "id": "f2f31102-c0e9-4219-a429-49b40d6f20c1",
   "metadata": {},
   "outputs": [],
   "source": [
    "train04 = pd.get_dummies(train04, columns=['land_slope', 'neighborhood', 'roof_matl', 'exter_qual', 'bsmtfin_type_2'], drop_first=True, dtype='int')\n",
    "test04 = pd.get_dummies(test04, columns=['land_slope', 'neighborhood', 'roof_matl', 'exter_qual', 'bsmtfin_type_2'], drop_first=True, dtype='int')"
   ]
  },
  {
   "cell_type": "code",
   "execution_count": 1788,
   "id": "7f4391d4-b644-41c3-86f5-e68682a14176",
   "metadata": {},
   "outputs": [
    {
     "data": {
      "text/html": [
       "<div>\n",
       "<style scoped>\n",
       "    .dataframe tbody tr th:only-of-type {\n",
       "        vertical-align: middle;\n",
       "    }\n",
       "\n",
       "    .dataframe tbody tr th {\n",
       "        vertical-align: top;\n",
       "    }\n",
       "\n",
       "    .dataframe thead th {\n",
       "        text-align: right;\n",
       "    }\n",
       "</style>\n",
       "<table border=\"1\" class=\"dataframe\">\n",
       "  <thead>\n",
       "    <tr style=\"text-align: right;\">\n",
       "      <th></th>\n",
       "      <th>overall_qual</th>\n",
       "      <th>gr_liv_area</th>\n",
       "      <th>garage_area</th>\n",
       "      <th>garage_cars</th>\n",
       "      <th>total_bsmt_sf</th>\n",
       "      <th>1st_flr_sf</th>\n",
       "      <th>saleprice</th>\n",
       "      <th>land_slope_Mod</th>\n",
       "      <th>land_slope_Sev</th>\n",
       "      <th>neighborhood_Blueste</th>\n",
       "      <th>...</th>\n",
       "      <th>roof_matl_WdShngl</th>\n",
       "      <th>exter_qual_Fa</th>\n",
       "      <th>exter_qual_Gd</th>\n",
       "      <th>exter_qual_TA</th>\n",
       "      <th>bsmtfin_type_2_BLQ</th>\n",
       "      <th>bsmtfin_type_2_GLQ</th>\n",
       "      <th>bsmtfin_type_2_LwQ</th>\n",
       "      <th>bsmtfin_type_2_NONE</th>\n",
       "      <th>bsmtfin_type_2_Rec</th>\n",
       "      <th>bsmtfin_type_2_Unf</th>\n",
       "    </tr>\n",
       "  </thead>\n",
       "  <tbody>\n",
       "    <tr>\n",
       "      <th>count</th>\n",
       "      <td>2051.000000</td>\n",
       "      <td>2051.000000</td>\n",
       "      <td>2051.000000</td>\n",
       "      <td>2051.000000</td>\n",
       "      <td>2051.000000</td>\n",
       "      <td>2051.000000</td>\n",
       "      <td>2051.000000</td>\n",
       "      <td>2051.000000</td>\n",
       "      <td>2051.000000</td>\n",
       "      <td>2051.000000</td>\n",
       "      <td>...</td>\n",
       "      <td>2051.000000</td>\n",
       "      <td>2051.000000</td>\n",
       "      <td>2051.000000</td>\n",
       "      <td>2051.000000</td>\n",
       "      <td>2051.000000</td>\n",
       "      <td>2051.000000</td>\n",
       "      <td>2051.000000</td>\n",
       "      <td>2051.000000</td>\n",
       "      <td>2051.000000</td>\n",
       "      <td>2051.000000</td>\n",
       "    </tr>\n",
       "    <tr>\n",
       "      <th>mean</th>\n",
       "      <td>6.112140</td>\n",
       "      <td>1499.330083</td>\n",
       "      <td>473.671707</td>\n",
       "      <td>1.776585</td>\n",
       "      <td>1057.987805</td>\n",
       "      <td>1164.488055</td>\n",
       "      <td>181469.701609</td>\n",
       "      <td>0.042906</td>\n",
       "      <td>0.004876</td>\n",
       "      <td>0.002925</td>\n",
       "      <td>...</td>\n",
       "      <td>0.002438</td>\n",
       "      <td>0.012677</td>\n",
       "      <td>0.339834</td>\n",
       "      <td>0.607996</td>\n",
       "      <td>0.023403</td>\n",
       "      <td>0.011214</td>\n",
       "      <td>0.029254</td>\n",
       "      <td>0.027304</td>\n",
       "      <td>0.039005</td>\n",
       "      <td>0.852755</td>\n",
       "    </tr>\n",
       "    <tr>\n",
       "      <th>std</th>\n",
       "      <td>1.426271</td>\n",
       "      <td>500.447829</td>\n",
       "      <td>215.881887</td>\n",
       "      <td>0.764351</td>\n",
       "      <td>449.301078</td>\n",
       "      <td>396.446923</td>\n",
       "      <td>79258.659352</td>\n",
       "      <td>0.202694</td>\n",
       "      <td>0.069673</td>\n",
       "      <td>0.054021</td>\n",
       "      <td>...</td>\n",
       "      <td>0.049326</td>\n",
       "      <td>0.111902</td>\n",
       "      <td>0.473768</td>\n",
       "      <td>0.488317</td>\n",
       "      <td>0.151217</td>\n",
       "      <td>0.105327</td>\n",
       "      <td>0.168559</td>\n",
       "      <td>0.163007</td>\n",
       "      <td>0.193655</td>\n",
       "      <td>0.354437</td>\n",
       "    </tr>\n",
       "    <tr>\n",
       "      <th>min</th>\n",
       "      <td>1.000000</td>\n",
       "      <td>334.000000</td>\n",
       "      <td>0.000000</td>\n",
       "      <td>0.000000</td>\n",
       "      <td>0.000000</td>\n",
       "      <td>334.000000</td>\n",
       "      <td>12789.000000</td>\n",
       "      <td>0.000000</td>\n",
       "      <td>0.000000</td>\n",
       "      <td>0.000000</td>\n",
       "      <td>...</td>\n",
       "      <td>0.000000</td>\n",
       "      <td>0.000000</td>\n",
       "      <td>0.000000</td>\n",
       "      <td>0.000000</td>\n",
       "      <td>0.000000</td>\n",
       "      <td>0.000000</td>\n",
       "      <td>0.000000</td>\n",
       "      <td>0.000000</td>\n",
       "      <td>0.000000</td>\n",
       "      <td>0.000000</td>\n",
       "    </tr>\n",
       "    <tr>\n",
       "      <th>25%</th>\n",
       "      <td>5.000000</td>\n",
       "      <td>1129.000000</td>\n",
       "      <td>319.000000</td>\n",
       "      <td>1.000000</td>\n",
       "      <td>793.000000</td>\n",
       "      <td>879.500000</td>\n",
       "      <td>129825.000000</td>\n",
       "      <td>0.000000</td>\n",
       "      <td>0.000000</td>\n",
       "      <td>0.000000</td>\n",
       "      <td>...</td>\n",
       "      <td>0.000000</td>\n",
       "      <td>0.000000</td>\n",
       "      <td>0.000000</td>\n",
       "      <td>0.000000</td>\n",
       "      <td>0.000000</td>\n",
       "      <td>0.000000</td>\n",
       "      <td>0.000000</td>\n",
       "      <td>0.000000</td>\n",
       "      <td>0.000000</td>\n",
       "      <td>1.000000</td>\n",
       "    </tr>\n",
       "    <tr>\n",
       "      <th>50%</th>\n",
       "      <td>6.000000</td>\n",
       "      <td>1444.000000</td>\n",
       "      <td>480.000000</td>\n",
       "      <td>2.000000</td>\n",
       "      <td>995.000000</td>\n",
       "      <td>1093.000000</td>\n",
       "      <td>162500.000000</td>\n",
       "      <td>0.000000</td>\n",
       "      <td>0.000000</td>\n",
       "      <td>0.000000</td>\n",
       "      <td>...</td>\n",
       "      <td>0.000000</td>\n",
       "      <td>0.000000</td>\n",
       "      <td>0.000000</td>\n",
       "      <td>1.000000</td>\n",
       "      <td>0.000000</td>\n",
       "      <td>0.000000</td>\n",
       "      <td>0.000000</td>\n",
       "      <td>0.000000</td>\n",
       "      <td>0.000000</td>\n",
       "      <td>1.000000</td>\n",
       "    </tr>\n",
       "    <tr>\n",
       "      <th>75%</th>\n",
       "      <td>7.000000</td>\n",
       "      <td>1728.500000</td>\n",
       "      <td>576.000000</td>\n",
       "      <td>2.000000</td>\n",
       "      <td>1318.500000</td>\n",
       "      <td>1405.000000</td>\n",
       "      <td>214000.000000</td>\n",
       "      <td>0.000000</td>\n",
       "      <td>0.000000</td>\n",
       "      <td>0.000000</td>\n",
       "      <td>...</td>\n",
       "      <td>0.000000</td>\n",
       "      <td>0.000000</td>\n",
       "      <td>1.000000</td>\n",
       "      <td>1.000000</td>\n",
       "      <td>0.000000</td>\n",
       "      <td>0.000000</td>\n",
       "      <td>0.000000</td>\n",
       "      <td>0.000000</td>\n",
       "      <td>0.000000</td>\n",
       "      <td>1.000000</td>\n",
       "    </tr>\n",
       "    <tr>\n",
       "      <th>max</th>\n",
       "      <td>10.000000</td>\n",
       "      <td>5642.000000</td>\n",
       "      <td>1418.000000</td>\n",
       "      <td>5.000000</td>\n",
       "      <td>6110.000000</td>\n",
       "      <td>5095.000000</td>\n",
       "      <td>611657.000000</td>\n",
       "      <td>1.000000</td>\n",
       "      <td>1.000000</td>\n",
       "      <td>1.000000</td>\n",
       "      <td>...</td>\n",
       "      <td>1.000000</td>\n",
       "      <td>1.000000</td>\n",
       "      <td>1.000000</td>\n",
       "      <td>1.000000</td>\n",
       "      <td>1.000000</td>\n",
       "      <td>1.000000</td>\n",
       "      <td>1.000000</td>\n",
       "      <td>1.000000</td>\n",
       "      <td>1.000000</td>\n",
       "      <td>1.000000</td>\n",
       "    </tr>\n",
       "  </tbody>\n",
       "</table>\n",
       "<p>8 rows × 46 columns</p>\n",
       "</div>"
      ],
      "text/plain": [
       "       overall_qual  gr_liv_area  garage_area  garage_cars  total_bsmt_sf  \\\n",
       "count   2051.000000  2051.000000  2051.000000  2051.000000    2051.000000   \n",
       "mean       6.112140  1499.330083   473.671707     1.776585    1057.987805   \n",
       "std        1.426271   500.447829   215.881887     0.764351     449.301078   \n",
       "min        1.000000   334.000000     0.000000     0.000000       0.000000   \n",
       "25%        5.000000  1129.000000   319.000000     1.000000     793.000000   \n",
       "50%        6.000000  1444.000000   480.000000     2.000000     995.000000   \n",
       "75%        7.000000  1728.500000   576.000000     2.000000    1318.500000   \n",
       "max       10.000000  5642.000000  1418.000000     5.000000    6110.000000   \n",
       "\n",
       "        1st_flr_sf      saleprice  land_slope_Mod  land_slope_Sev  \\\n",
       "count  2051.000000    2051.000000     2051.000000     2051.000000   \n",
       "mean   1164.488055  181469.701609        0.042906        0.004876   \n",
       "std     396.446923   79258.659352        0.202694        0.069673   \n",
       "min     334.000000   12789.000000        0.000000        0.000000   \n",
       "25%     879.500000  129825.000000        0.000000        0.000000   \n",
       "50%    1093.000000  162500.000000        0.000000        0.000000   \n",
       "75%    1405.000000  214000.000000        0.000000        0.000000   \n",
       "max    5095.000000  611657.000000        1.000000        1.000000   \n",
       "\n",
       "       neighborhood_Blueste  ...  roof_matl_WdShngl  exter_qual_Fa  \\\n",
       "count           2051.000000  ...        2051.000000    2051.000000   \n",
       "mean               0.002925  ...           0.002438       0.012677   \n",
       "std                0.054021  ...           0.049326       0.111902   \n",
       "min                0.000000  ...           0.000000       0.000000   \n",
       "25%                0.000000  ...           0.000000       0.000000   \n",
       "50%                0.000000  ...           0.000000       0.000000   \n",
       "75%                0.000000  ...           0.000000       0.000000   \n",
       "max                1.000000  ...           1.000000       1.000000   \n",
       "\n",
       "       exter_qual_Gd  exter_qual_TA  bsmtfin_type_2_BLQ  bsmtfin_type_2_GLQ  \\\n",
       "count    2051.000000    2051.000000         2051.000000         2051.000000   \n",
       "mean        0.339834       0.607996            0.023403            0.011214   \n",
       "std         0.473768       0.488317            0.151217            0.105327   \n",
       "min         0.000000       0.000000            0.000000            0.000000   \n",
       "25%         0.000000       0.000000            0.000000            0.000000   \n",
       "50%         0.000000       1.000000            0.000000            0.000000   \n",
       "75%         1.000000       1.000000            0.000000            0.000000   \n",
       "max         1.000000       1.000000            1.000000            1.000000   \n",
       "\n",
       "       bsmtfin_type_2_LwQ  bsmtfin_type_2_NONE  bsmtfin_type_2_Rec  \\\n",
       "count         2051.000000          2051.000000         2051.000000   \n",
       "mean             0.029254             0.027304            0.039005   \n",
       "std              0.168559             0.163007            0.193655   \n",
       "min              0.000000             0.000000            0.000000   \n",
       "25%              0.000000             0.000000            0.000000   \n",
       "50%              0.000000             0.000000            0.000000   \n",
       "75%              0.000000             0.000000            0.000000   \n",
       "max              1.000000             1.000000            1.000000   \n",
       "\n",
       "       bsmtfin_type_2_Unf  \n",
       "count         2051.000000  \n",
       "mean             0.852755  \n",
       "std              0.354437  \n",
       "min              0.000000  \n",
       "25%              1.000000  \n",
       "50%              1.000000  \n",
       "75%              1.000000  \n",
       "max              1.000000  \n",
       "\n",
       "[8 rows x 46 columns]"
      ]
     },
     "execution_count": 1788,
     "metadata": {},
     "output_type": "execute_result"
    }
   ],
   "source": [
    "train04.describe()"
   ]
  },
  {
   "cell_type": "code",
   "execution_count": 1789,
   "id": "10ce5d02-7c08-4468-a8df-96f50acaf33f",
   "metadata": {},
   "outputs": [],
   "source": [
    "X = train04.drop(columns='saleprice')\n",
    "y = train04['saleprice']"
   ]
  },
  {
   "cell_type": "code",
   "execution_count": 1790,
   "id": "2ce762cc-ff0b-42d2-8acb-c8e68e983207",
   "metadata": {},
   "outputs": [],
   "source": [
    "X_train, X_test, y_train, y_test = train_test_split(X, y, random_state=42)"
   ]
  },
  {
   "cell_type": "code",
   "execution_count": 1791,
   "id": "d3e09b87-a58f-4de9-84ce-09834469e1b6",
   "metadata": {},
   "outputs": [
    {
     "data": {
      "text/html": [
       "<style>#sk-container-id-159 {color: black;background-color: white;}#sk-container-id-159 pre{padding: 0;}#sk-container-id-159 div.sk-toggleable {background-color: white;}#sk-container-id-159 label.sk-toggleable__label {cursor: pointer;display: block;width: 100%;margin-bottom: 0;padding: 0.3em;box-sizing: border-box;text-align: center;}#sk-container-id-159 label.sk-toggleable__label-arrow:before {content: \"▸\";float: left;margin-right: 0.25em;color: #696969;}#sk-container-id-159 label.sk-toggleable__label-arrow:hover:before {color: black;}#sk-container-id-159 div.sk-estimator:hover label.sk-toggleable__label-arrow:before {color: black;}#sk-container-id-159 div.sk-toggleable__content {max-height: 0;max-width: 0;overflow: hidden;text-align: left;background-color: #f0f8ff;}#sk-container-id-159 div.sk-toggleable__content pre {margin: 0.2em;color: black;border-radius: 0.25em;background-color: #f0f8ff;}#sk-container-id-159 input.sk-toggleable__control:checked~div.sk-toggleable__content {max-height: 200px;max-width: 100%;overflow: auto;}#sk-container-id-159 input.sk-toggleable__control:checked~label.sk-toggleable__label-arrow:before {content: \"▾\";}#sk-container-id-159 div.sk-estimator input.sk-toggleable__control:checked~label.sk-toggleable__label {background-color: #d4ebff;}#sk-container-id-159 div.sk-label input.sk-toggleable__control:checked~label.sk-toggleable__label {background-color: #d4ebff;}#sk-container-id-159 input.sk-hidden--visually {border: 0;clip: rect(1px 1px 1px 1px);clip: rect(1px, 1px, 1px, 1px);height: 1px;margin: -1px;overflow: hidden;padding: 0;position: absolute;width: 1px;}#sk-container-id-159 div.sk-estimator {font-family: monospace;background-color: #f0f8ff;border: 1px dotted black;border-radius: 0.25em;box-sizing: border-box;margin-bottom: 0.5em;}#sk-container-id-159 div.sk-estimator:hover {background-color: #d4ebff;}#sk-container-id-159 div.sk-parallel-item::after {content: \"\";width: 100%;border-bottom: 1px solid gray;flex-grow: 1;}#sk-container-id-159 div.sk-label:hover label.sk-toggleable__label {background-color: #d4ebff;}#sk-container-id-159 div.sk-serial::before {content: \"\";position: absolute;border-left: 1px solid gray;box-sizing: border-box;top: 0;bottom: 0;left: 50%;z-index: 0;}#sk-container-id-159 div.sk-serial {display: flex;flex-direction: column;align-items: center;background-color: white;padding-right: 0.2em;padding-left: 0.2em;position: relative;}#sk-container-id-159 div.sk-item {position: relative;z-index: 1;}#sk-container-id-159 div.sk-parallel {display: flex;align-items: stretch;justify-content: center;background-color: white;position: relative;}#sk-container-id-159 div.sk-item::before, #sk-container-id-159 div.sk-parallel-item::before {content: \"\";position: absolute;border-left: 1px solid gray;box-sizing: border-box;top: 0;bottom: 0;left: 50%;z-index: -1;}#sk-container-id-159 div.sk-parallel-item {display: flex;flex-direction: column;z-index: 1;position: relative;background-color: white;}#sk-container-id-159 div.sk-parallel-item:first-child::after {align-self: flex-end;width: 50%;}#sk-container-id-159 div.sk-parallel-item:last-child::after {align-self: flex-start;width: 50%;}#sk-container-id-159 div.sk-parallel-item:only-child::after {width: 0;}#sk-container-id-159 div.sk-dashed-wrapped {border: 1px dashed gray;margin: 0 0.4em 0.5em 0.4em;box-sizing: border-box;padding-bottom: 0.4em;background-color: white;}#sk-container-id-159 div.sk-label label {font-family: monospace;font-weight: bold;display: inline-block;line-height: 1.2em;}#sk-container-id-159 div.sk-label-container {text-align: center;}#sk-container-id-159 div.sk-container {/* jupyter's `normalize.less` sets `[hidden] { display: none; }` but bootstrap.min.css set `[hidden] { display: none !important; }` so we also need the `!important` here to be able to override the default hidden behavior on the sphinx rendered scikit-learn.org. See: https://github.com/scikit-learn/scikit-learn/issues/21755 */display: inline-block !important;position: relative;}#sk-container-id-159 div.sk-text-repr-fallback {display: none;}</style><div id=\"sk-container-id-159\" class=\"sk-top-container\"><div class=\"sk-text-repr-fallback\"><pre>LinearRegression()</pre><b>In a Jupyter environment, please rerun this cell to show the HTML representation or trust the notebook. <br />On GitHub, the HTML representation is unable to render, please try loading this page with nbviewer.org.</b></div><div class=\"sk-container\" hidden><div class=\"sk-item\"><div class=\"sk-estimator sk-toggleable\"><input class=\"sk-toggleable__control sk-hidden--visually\" id=\"sk-estimator-id-159\" type=\"checkbox\" checked><label for=\"sk-estimator-id-159\" class=\"sk-toggleable__label sk-toggleable__label-arrow\">LinearRegression</label><div class=\"sk-toggleable__content\"><pre>LinearRegression()</pre></div></div></div></div></div>"
      ],
      "text/plain": [
       "LinearRegression()"
      ]
     },
     "execution_count": 1791,
     "metadata": {},
     "output_type": "execute_result"
    }
   ],
   "source": [
    "regr.fit(X_train, y_train)"
   ]
  },
  {
   "cell_type": "code",
   "execution_count": 1792,
   "id": "d623d148-4a40-472a-bfd8-ba94d487669d",
   "metadata": {},
   "outputs": [
    {
     "data": {
      "text/plain": [
       "0.8374624399089533"
      ]
     },
     "execution_count": 1792,
     "metadata": {},
     "output_type": "execute_result"
    }
   ],
   "source": [
    "regr.score(X_train, y_train)"
   ]
  },
  {
   "cell_type": "code",
   "execution_count": 1793,
   "id": "558e864a-7527-4912-af2c-ddc6cc39214d",
   "metadata": {},
   "outputs": [
    {
     "data": {
      "text/plain": [
       "0.8386364285496836"
      ]
     },
     "execution_count": 1793,
     "metadata": {},
     "output_type": "execute_result"
    }
   ],
   "source": [
    "regr.score(X_test, y_test)"
   ]
  },
  {
   "cell_type": "markdown",
   "id": "1074db48-c754-4a77-bdb0-801c1ebf67fd",
   "metadata": {},
   "source": [
    "Using less features didn't yield better results."
   ]
  },
  {
   "cell_type": "code",
   "execution_count": 1794,
   "id": "d3dd6379-5da5-4d4f-8d67-1a40b4402ae8",
   "metadata": {},
   "outputs": [],
   "source": [
    "train05 = train03.copy\n",
    "test05 = test03.copy"
   ]
  },
  {
   "cell_type": "code",
   "execution_count": 1795,
   "id": "f0722fa9-0cab-42a2-a931-f286c1ca5b43",
   "metadata": {},
   "outputs": [],
   "source": [
    "# Trying a new model where I drop columns with multicollinearity based on heatmap in my EDA notebook\n",
    "train05 = train03.drop(columns=['garage_yr_blt', '1st_flr_sf', 'garage_cars'])\n",
    "test05 = test03.drop(columns=['garage_yr_blt', '1st_flr_sf', 'garage_cars'])"
   ]
  },
  {
   "cell_type": "code",
   "execution_count": 1796,
   "id": "f4ce5e75-703b-4234-9161-d03624684e80",
   "metadata": {},
   "outputs": [],
   "source": [
    "X = train05.drop(columns='saleprice')\n",
    "y = train05['saleprice']"
   ]
  },
  {
   "cell_type": "code",
   "execution_count": 1797,
   "id": "e17eb244-3bb3-42cd-8f31-a499d313e91a",
   "metadata": {},
   "outputs": [],
   "source": [
    "X_train, X_test, y_train, y_test = train_test_split(X, y, random_state=42)"
   ]
  },
  {
   "cell_type": "code",
   "execution_count": 1798,
   "id": "e171d44c-a54a-48b9-84f7-5a0d05d88083",
   "metadata": {},
   "outputs": [
    {
     "data": {
      "text/html": [
       "<style>#sk-container-id-160 {color: black;background-color: white;}#sk-container-id-160 pre{padding: 0;}#sk-container-id-160 div.sk-toggleable {background-color: white;}#sk-container-id-160 label.sk-toggleable__label {cursor: pointer;display: block;width: 100%;margin-bottom: 0;padding: 0.3em;box-sizing: border-box;text-align: center;}#sk-container-id-160 label.sk-toggleable__label-arrow:before {content: \"▸\";float: left;margin-right: 0.25em;color: #696969;}#sk-container-id-160 label.sk-toggleable__label-arrow:hover:before {color: black;}#sk-container-id-160 div.sk-estimator:hover label.sk-toggleable__label-arrow:before {color: black;}#sk-container-id-160 div.sk-toggleable__content {max-height: 0;max-width: 0;overflow: hidden;text-align: left;background-color: #f0f8ff;}#sk-container-id-160 div.sk-toggleable__content pre {margin: 0.2em;color: black;border-radius: 0.25em;background-color: #f0f8ff;}#sk-container-id-160 input.sk-toggleable__control:checked~div.sk-toggleable__content {max-height: 200px;max-width: 100%;overflow: auto;}#sk-container-id-160 input.sk-toggleable__control:checked~label.sk-toggleable__label-arrow:before {content: \"▾\";}#sk-container-id-160 div.sk-estimator input.sk-toggleable__control:checked~label.sk-toggleable__label {background-color: #d4ebff;}#sk-container-id-160 div.sk-label input.sk-toggleable__control:checked~label.sk-toggleable__label {background-color: #d4ebff;}#sk-container-id-160 input.sk-hidden--visually {border: 0;clip: rect(1px 1px 1px 1px);clip: rect(1px, 1px, 1px, 1px);height: 1px;margin: -1px;overflow: hidden;padding: 0;position: absolute;width: 1px;}#sk-container-id-160 div.sk-estimator {font-family: monospace;background-color: #f0f8ff;border: 1px dotted black;border-radius: 0.25em;box-sizing: border-box;margin-bottom: 0.5em;}#sk-container-id-160 div.sk-estimator:hover {background-color: #d4ebff;}#sk-container-id-160 div.sk-parallel-item::after {content: \"\";width: 100%;border-bottom: 1px solid gray;flex-grow: 1;}#sk-container-id-160 div.sk-label:hover label.sk-toggleable__label {background-color: #d4ebff;}#sk-container-id-160 div.sk-serial::before {content: \"\";position: absolute;border-left: 1px solid gray;box-sizing: border-box;top: 0;bottom: 0;left: 50%;z-index: 0;}#sk-container-id-160 div.sk-serial {display: flex;flex-direction: column;align-items: center;background-color: white;padding-right: 0.2em;padding-left: 0.2em;position: relative;}#sk-container-id-160 div.sk-item {position: relative;z-index: 1;}#sk-container-id-160 div.sk-parallel {display: flex;align-items: stretch;justify-content: center;background-color: white;position: relative;}#sk-container-id-160 div.sk-item::before, #sk-container-id-160 div.sk-parallel-item::before {content: \"\";position: absolute;border-left: 1px solid gray;box-sizing: border-box;top: 0;bottom: 0;left: 50%;z-index: -1;}#sk-container-id-160 div.sk-parallel-item {display: flex;flex-direction: column;z-index: 1;position: relative;background-color: white;}#sk-container-id-160 div.sk-parallel-item:first-child::after {align-self: flex-end;width: 50%;}#sk-container-id-160 div.sk-parallel-item:last-child::after {align-self: flex-start;width: 50%;}#sk-container-id-160 div.sk-parallel-item:only-child::after {width: 0;}#sk-container-id-160 div.sk-dashed-wrapped {border: 1px dashed gray;margin: 0 0.4em 0.5em 0.4em;box-sizing: border-box;padding-bottom: 0.4em;background-color: white;}#sk-container-id-160 div.sk-label label {font-family: monospace;font-weight: bold;display: inline-block;line-height: 1.2em;}#sk-container-id-160 div.sk-label-container {text-align: center;}#sk-container-id-160 div.sk-container {/* jupyter's `normalize.less` sets `[hidden] { display: none; }` but bootstrap.min.css set `[hidden] { display: none !important; }` so we also need the `!important` here to be able to override the default hidden behavior on the sphinx rendered scikit-learn.org. See: https://github.com/scikit-learn/scikit-learn/issues/21755 */display: inline-block !important;position: relative;}#sk-container-id-160 div.sk-text-repr-fallback {display: none;}</style><div id=\"sk-container-id-160\" class=\"sk-top-container\"><div class=\"sk-text-repr-fallback\"><pre>LinearRegression()</pre><b>In a Jupyter environment, please rerun this cell to show the HTML representation or trust the notebook. <br />On GitHub, the HTML representation is unable to render, please try loading this page with nbviewer.org.</b></div><div class=\"sk-container\" hidden><div class=\"sk-item\"><div class=\"sk-estimator sk-toggleable\"><input class=\"sk-toggleable__control sk-hidden--visually\" id=\"sk-estimator-id-160\" type=\"checkbox\" checked><label for=\"sk-estimator-id-160\" class=\"sk-toggleable__label sk-toggleable__label-arrow\">LinearRegression</label><div class=\"sk-toggleable__content\"><pre>LinearRegression()</pre></div></div></div></div></div>"
      ],
      "text/plain": [
       "LinearRegression()"
      ]
     },
     "execution_count": 1798,
     "metadata": {},
     "output_type": "execute_result"
    }
   ],
   "source": [
    "regr.fit(X_train, y_train)"
   ]
  },
  {
   "cell_type": "code",
   "execution_count": 1799,
   "id": "90dca693-6b47-4c83-aa47-444cec16aa19",
   "metadata": {},
   "outputs": [
    {
     "data": {
      "text/plain": [
       "0.85136319296252"
      ]
     },
     "execution_count": 1799,
     "metadata": {},
     "output_type": "execute_result"
    }
   ],
   "source": [
    "regr.score(X_train, y_train)"
   ]
  },
  {
   "cell_type": "code",
   "execution_count": 1800,
   "id": "19707767-1158-4032-ba53-2818732d3727",
   "metadata": {},
   "outputs": [
    {
     "data": {
      "text/plain": [
       "0.8601288832469466"
      ]
     },
     "execution_count": 1800,
     "metadata": {},
     "output_type": "execute_result"
    }
   ],
   "source": [
    "regr.score(X_test, y_test)"
   ]
  },
  {
   "cell_type": "markdown",
   "id": "3404f849-5378-4a1b-970a-0d5c83847afb",
   "metadata": {},
   "source": [
    "Still doesn't beat my best R2 score"
   ]
  },
  {
   "cell_type": "markdown",
   "id": "cf58981e-c39a-44a4-9876-e6a74a2959b5",
   "metadata": {},
   "source": [
    "## Conclusions"
   ]
  },
  {
   "cell_type": "markdown",
   "id": "5f0640c1-b3e7-4575-a012-ef1bf163a152",
   "metadata": {},
   "source": [
    "- I was able to build successively more accurate models, with the final one being able to explain roughly 84% of the variability in sale prices based on my chosen predictor variables.\n",
    "- Using Ridge and Lasso regularization didn't meaningfully improve my models in this situation\n",
    "- Removing features with multicollinearity didn't seem to meaningfully improve my model's performance either\n",
    "- Using more variables yieled better results"
   ]
  }
 ],
 "metadata": {
  "kernelspec": {
   "display_name": "Python 3 (ipykernel)",
   "language": "python",
   "name": "python3"
  },
  "language_info": {
   "codemirror_mode": {
    "name": "ipython",
    "version": 3
   },
   "file_extension": ".py",
   "mimetype": "text/x-python",
   "name": "python",
   "nbconvert_exporter": "python",
   "pygments_lexer": "ipython3",
   "version": "3.11.7"
  }
 },
 "nbformat": 4,
 "nbformat_minor": 5
}
